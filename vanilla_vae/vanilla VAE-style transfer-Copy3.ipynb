{
 "cells": [
  {
   "cell_type": "code",
   "execution_count": 1,
   "metadata": {
    "collapsed": false
   },
   "outputs": [
    {
     "name": "stderr",
     "output_type": "stream",
     "text": [
      "Using TensorFlow backend.\n"
     ]
    }
   ],
   "source": [
    "from __future__ import print_function\n",
    "\n",
    "import time\n",
    "from PIL import Image\n",
    "import numpy as np\n",
    "import tensorflow as tf\n",
    "\n",
    "from keras import backend\n",
    "from keras.models import Model\n",
    "from keras.applications.vgg16 import VGG16\n",
    "\n",
    "from scipy.optimize import fmin_l_bfgs_b\n",
    "from scipy.misc import imsave\n",
    "import scipy.io as sio\n",
    "\n",
    "import matplotlib.pyplot as plt\n",
    "%matplotlib inline"
   ]
  },
  {
   "cell_type": "code",
   "execution_count": 2,
   "metadata": {
    "collapsed": false
   },
   "outputs": [
    {
     "data": {
      "text/plain": [
       "<matplotlib.image.AxesImage at 0x7f10d6fa6710>"
      ]
     },
     "execution_count": 2,
     "metadata": {},
     "output_type": "execute_result"
    },
    {
     "data": {
      "image/png": "[encoded data removed]",
      "text/plain": [
       "<matplotlib.figure.Figure at 0x7f113dffa890>"
      ]
     },
     "metadata": {},
     "output_type": "display_data"
    }
   ],
   "source": [
    "style_img = np.array(sio.loadmat('WB_sm.mat')['WB_sm'],dtype='float32')\n",
    "content_img = np.array(sio.loadmat('content_img/test_sample.mat')['sample'],dtype='float32')\n",
    "\n",
    "content_img=style_img[2].reshape(1,100,100,1)\n",
    "style_img=style_img[1].reshape(1,100,100,1)\n",
    "plt.imshow(style_img.reshape(100,100),'gray')"
   ]
  },
  {
   "cell_type": "code",
   "execution_count": 4,
   "metadata": {
    "collapsed": true
   },
   "outputs": [],
   "source": [
    "height=100;width=100\n",
    "style_image = backend.variable(style_img)\n",
    "content_image = backend.variable(content_img)\n",
    "combination_image = backend.placeholder((1, height, width, 1))"
   ]
  },
  {
   "cell_type": "code",
   "execution_count": 5,
   "metadata": {
    "collapsed": true
   },
   "outputs": [],
   "source": [
    "W1 = np.array(sio.loadmat('weights_AE/W1_AE.mat')['weights_1'],dtype='float32')\n",
    "W2 = np.array(sio.loadmat('weights_AE/W2_AE.mat')['weights_2'],dtype='float32')\n",
    "W3 = np.array(sio.loadmat('weights_AE/W3_AE.mat')['weights_3'],dtype='float32')\n",
    "\n",
    "bias1=np.array(sio.loadmat('weights_AE/bias1_AE.mat')['biases_1'],dtype='float32')\n",
    "bias2=np.array(sio.loadmat('weights_AE/bias2_AE.mat')['biases_2'],dtype='float32')\n",
    "bias3=np.array(sio.loadmat('weights_AE/bias3_AE.mat')['biases_3'],dtype='float32')"
   ]
  },
  {
   "cell_type": "code",
   "execution_count": 6,
   "metadata": {
    "collapsed": true
   },
   "outputs": [],
   "source": [
    "def conv2d(x, W, stride, padding=\"SAME\"):\n",
    "    return tf.nn.conv2d(x, W, strides=[1, stride, stride, 1], padding=padding)\n",
    "    \n",
    "def max_pool(x, k_size, stride, padding=\"VALID\"):\n",
    "    # use avg pooling instead, as described in the paper\n",
    "    return tf.nn.avg_pool(x, ksize=[1, k_size, k_size, 1],\n",
    "                          strides=[1, stride, stride, 1], padding=padding)    "
   ]
  },
  {
   "cell_type": "code",
   "execution_count": 7,
   "metadata": {
    "collapsed": false
   },
   "outputs": [],
   "source": [
    "W_conv1 = tf.reshape(tf.constant(W1),[6,6,1,24])\n",
    "W_conv2 = tf.reshape(tf.constant(W2),[9,9,24,40])\n",
    "W_conv3 = tf.reshape(tf.constant(W3),[9,9,40,288])\n",
    "\n",
    "b_conv1 = tf.reshape(tf.constant(bias1),[-1])\n",
    "b_conv2 = tf.reshape(tf.constant(bias2),[-1])\n",
    "b_conv3 = tf.reshape(tf.constant(bias3),[-1])\n",
    "############# white noise ############\n",
    "conv_out1 = conv2d(combination_image, W_conv1, stride=1, padding='SAME')\n",
    "conv_out1 = tf.nn.bias_add(conv_out1, b_conv1)\n",
    "conv_out1 = tf.nn.relu(conv_out1)\n",
    "conv_out1 = max_pool(conv_out1, k_size=2, stride=2, padding=\"SAME\")\n",
    "\n",
    "conv_out2 = conv2d(conv_out1, W_conv2, stride=1, padding='SAME')\n",
    "conv_out2 = tf.nn.bias_add(conv_out2, b_conv2)\n",
    "conv_out2 = tf.nn.relu(conv_out2)\n",
    "conv_out2 = max_pool(conv_out2, k_size=2, stride=2, padding=\"SAME\")\n",
    "\n",
    "conv_out3 = conv2d(conv_out2, W_conv3, stride=1, padding='SAME')\n",
    "conv_out3 = tf.nn.bias_add(conv_out3, b_conv3)\n",
    "conv_out3 = tf.nn.relu(conv_out3)\n",
    "\n",
    "############# style image ############\n",
    "conv_out1_S = conv2d(style_image, W_conv1, stride=1, padding='SAME')\n",
    "conv_out1_S = tf.nn.bias_add(conv_out1_S, b_conv1)\n",
    "conv_out1_S = tf.nn.relu(conv_out1_S)\n",
    "conv_out1_S = max_pool(conv_out1_S, k_size=2, stride=2, padding=\"SAME\")\n",
    "\n",
    "conv_out2_S = conv2d(conv_out1_S, W_conv2, stride=1, padding='SAME')\n",
    "conv_out2_S = tf.nn.bias_add(conv_out2_S, b_conv2)\n",
    "conv_out2_S = tf.nn.relu(conv_out2_S)\n",
    "conv_out2_S = max_pool(conv_out2_S, k_size=2, stride=2, padding=\"SAME\")\n",
    "\n",
    "conv_out3_S = conv2d(conv_out2_S, W_conv3, stride=1, padding='SAME')\n",
    "conv_out3_S = tf.nn.bias_add(conv_out3_S, b_conv3)\n",
    "conv_out3_S = tf.nn.relu(conv_out3_S)\n",
    "\n",
    "############# content image ############\n",
    "conv_out1_C = conv2d(content_image, W_conv1, stride=1, padding='SAME')\n",
    "conv_out1_C = tf.nn.bias_add(conv_out1_C, b_conv1)\n",
    "conv_out1_C = tf.nn.relu(conv_out1_C)\n",
    "conv_out1_C = max_pool(conv_out1_C, k_size=2, stride=2, padding=\"SAME\")\n",
    "\n",
    "conv_out2_C = conv2d(conv_out1_C, W_conv2, stride=1, padding='SAME')\n",
    "conv_out2_C = tf.nn.bias_add(conv_out2_C, b_conv2)\n",
    "conv_out2_C = tf.nn.relu(conv_out2_C)\n",
    "conv_out2_C = max_pool(conv_out2_C, k_size=2, stride=2, padding=\"SAME\")\n",
    "\n",
    "conv_out3_C = conv2d(conv_out2_C, W_conv3, stride=1, padding='SAME')\n",
    "conv_out3_C = tf.nn.bias_add(conv_out3_C, b_conv3)\n",
    "conv_out3_C = tf.nn.relu(conv_out3_C)"
   ]
  },
  {
   "cell_type": "code",
   "execution_count": 27,
   "metadata": {
    "collapsed": false,
    "scrolled": true
   },
   "outputs": [],
   "source": [
    "def gram_matrix(x):\n",
    "    features = backend.batch_flatten(backend.permute_dimensions(x, (2, 0, 1)))\n",
    "    features_mean = tf.reduce_mean(features,0)\n",
    "#     features = (features-features_mean)/1\n",
    "    gram = backend.dot(features, backend.transpose(features))\n",
    "#     D=tf.sqrt(tf.diag(tf.diag_part(gram)))\n",
    "#     Q=tf.matmul(tf.matmul(tf.matrix_inverse(D),gram),tf.matrix_inverse(D))\n",
    "    return gram\n",
    "\n",
    "def style_loss(style, combination):\n",
    "    S = gram_matrix(style)\n",
    "    C = gram_matrix(combination)\n",
    "    channels = 1\n",
    "    size = height * width\n",
    "    return backend.sum(backend.square(S - C)) / 1e-2\n",
    "\n",
    "\n",
    "style_features1 = conv_out1_S[0,:,:,:]\n",
    "combination_features1 = conv_out1[0,:,:,:]\n",
    "style_features2 = conv_out2_S[0,:,:,:]\n",
    "combination_features2 = conv_out2[0,:,:,:]\n",
    "\n",
    "sl1 = style_loss(style_features1, combination_features1)\n",
    "sl2 = style_loss(style_features2, combination_features2)\n",
    "\n",
    "loss=sl1+sl2"
   ]
  },
  {
   "cell_type": "code",
   "execution_count": 28,
   "metadata": {
    "collapsed": false
   },
   "outputs": [],
   "source": [
    "grads = backend.gradients(loss, combination_image)\n",
    "outputs = [loss]\n",
    "outputs += grads\n",
    "f_outputs = backend.function([combination_image], outputs)\n",
    "\n",
    "def eval_loss_and_grads(x):\n",
    "    x = x.reshape((1, height, width, 1))\n",
    "    outs = f_outputs([x])\n",
    "    loss_value = outs[0]\n",
    "    grad_values = outs[1].flatten().astype('float64')\n",
    "    return loss_value, grad_values\n",
    "\n",
    "class Evaluator(object):\n",
    "\n",
    "    def __init__(self):\n",
    "        self.loss_value = None\n",
    "        self.grads_values = None\n",
    "\n",
    "    def loss(self, x):\n",
    "        assert self.loss_value is None\n",
    "        loss_value, grad_values = eval_loss_and_grads(x)\n",
    "        self.loss_value = loss_value\n",
    "        self.grad_values = grad_values\n",
    "        return self.loss_value\n",
    "\n",
    "    def grads(self, x):\n",
    "        assert self.loss_value is not None\n",
    "        grad_values = np.copy(self.grad_values)\n",
    "        self.loss_value = None\n",
    "        self.grad_values = None\n",
    "        return grad_values\n",
    "\n",
    "evaluator = Evaluator()"
   ]
  },
  {
   "cell_type": "code",
   "execution_count": 29,
   "metadata": {
    "collapsed": false,
    "scrolled": true
   },
   "outputs": [
    {
     "name": "stdout",
     "output_type": "stream",
     "text": [
      "Start of iteration 0\n",
      "Current loss value: 15617.2\n",
      "Iteration 0 completed in 0s\n",
      "Start of iteration 1\n",
      "Current loss value: 2400.56\n",
      "Iteration 1 completed in 0s\n",
      "Start of iteration 2\n",
      "Current loss value: 835.462\n",
      "Iteration 2 completed in 0s\n",
      "Start of iteration 3\n",
      "Current loss value: 531.828\n",
      "Iteration 3 completed in 0s\n",
      "Start of iteration 4\n",
      "Current loss value: 359.712\n",
      "Iteration 4 completed in 0s\n",
      "Start of iteration 5\n",
      "Current loss value: 288.46\n",
      "Iteration 5 completed in 0s\n",
      "Start of iteration 6\n",
      "Current loss value: 228.977\n",
      "Iteration 6 completed in 0s\n",
      "Start of iteration 7\n",
      "Current loss value: 197.591\n",
      "Iteration 7 completed in 0s\n",
      "Start of iteration 8\n",
      "Current loss value: 151.956\n",
      "Iteration 8 completed in 0s\n",
      "Start of iteration 9\n",
      "Current loss value: 126.411\n",
      "Iteration 9 completed in 0s\n",
      "Start of iteration 10\n",
      "Current loss value: 111.611\n",
      "Iteration 10 completed in 0s\n",
      "Start of iteration 11\n",
      "Current loss value: 99.8309\n",
      "Iteration 11 completed in 0s\n",
      "Start of iteration 12\n",
      "Current loss value: 92.2708\n",
      "Iteration 12 completed in 0s\n",
      "Start of iteration 13\n",
      "Current loss value: 85.1717\n",
      "Iteration 13 completed in 0s\n",
      "Start of iteration 14\n",
      "Current loss value: 80.0735\n",
      "Iteration 14 completed in 0s\n",
      "Start of iteration 15\n",
      "Current loss value: 71.0437\n",
      "Iteration 15 completed in 0s\n",
      "Start of iteration 16\n",
      "Current loss value: 64.726\n",
      "Iteration 16 completed in 0s\n",
      "Start of iteration 17\n",
      "Current loss value: 62.3577\n",
      "Iteration 17 completed in 0s\n",
      "Start of iteration 18\n",
      "Current loss value: 59.3544\n",
      "Iteration 18 completed in 0s\n",
      "Start of iteration 19\n",
      "Current loss value: 57.3854\n",
      "Iteration 19 completed in 0s\n"
     ]
    }
   ],
   "source": [
    "x = np.random.uniform(0, 1, (1, height, width, 1))\n",
    "\n",
    "iterations = 20\n",
    "\n",
    "for i in range(20):\n",
    "    print('Start of iteration', i)\n",
    "    start_time = time.time()\n",
    "    x, min_val, info = fmin_l_bfgs_b(evaluator.loss, x.flatten(),\n",
    "                                     fprime=evaluator.grads, maxfun=20)\n",
    "    print('Current loss value:', min_val)\n",
    "    end_time = time.time()\n",
    "    print('Iteration %d completed in %ds' % (i, end_time - start_time))"
   ]
  },
  {
   "cell_type": "code",
   "execution_count": 30,
   "metadata": {
    "collapsed": false
   },
   "outputs": [
    {
     "data": {
      "text/plain": [
       "<matplotlib.image.AxesImage at 0x7f10800c7bd0>"
      ]
     },
     "execution_count": 30,
     "metadata": {},
     "output_type": "execute_result"
    },
    {
     "data": {
      "image/png": "[encoded data removed]",
      "text/plain": [
       "<matplotlib.figure.Figure at 0x7f10987cd1d0>"
      ]
     },
     "metadata": {},
     "output_type": "display_data"
    }
   ],
   "source": [
    "plt.imshow(x.reshape(100,100),'gray')"
   ]
  },
  {
   "cell_type": "code",
   "execution_count": 2,
   "metadata": {
    "collapsed": false
   },
   "outputs": [
    {
     "name": "stderr",
     "output_type": "stream",
     "text": [
      "Using TensorFlow backend.\n"
     ]
    }
   ],
   "source": [
    "import tensorflow as tf\n",
    "import numpy as np\n",
    "import matplotlib.pyplot as plt\n",
    "import matplotlib.gridspec as gridspec\n",
    "import os\n",
    "import scipy.io as sio\n",
    "import random\n",
    "\n",
    "from __future__ import print_function\n",
    "\n",
    "import time\n",
    "from PIL import Image\n",
    "import numpy as np\n",
    "\n",
    "from keras import backend\n",
    "from keras.models import Model\n",
    "from keras.applications.vgg16 import VGG16\n",
    "\n",
    "from scipy.optimize import fmin_l_bfgs_b\n",
    "from scipy.misc import imsave\n"
   ]
  },
  {
   "cell_type": "code",
   "execution_count": 3,
   "metadata": {
    "collapsed": true
   },
   "outputs": [],
   "source": [
    "\n",
    "# mnist = input_data.read_data_sets('../../MNIST_data', one_hot=True)\n",
    "images = np.array(sio.loadmat('WB_sm.mat')['WB_sm'],dtype='float32')\n",
    "images = images[0:100]\n",
    "images[images==0]=-1\n",
    "\n",
    "mb_size = 20\n",
    "z_dim = 100/4\n",
    "X_dim = images.shape[1]\n",
    "width = 100\n",
    "hight = 100\n",
    "h_dim = width/4*hight/4\n",
    "\n",
    "#variables for correlation function\n",
    "input_dim = 32\n",
    "Rad = input_dim/2\n",
    "\n",
    "conv1_features=64*2\n",
    "conv2_features=32*2\n",
    "conv3_features=1\n",
    "c = 0\n",
    "\n",
    "num_channels_1=1\n",
    "num_channels_2=64*2\n",
    "num_channels_3=32*2\n",
    "lr = 1e-3\n",
    "\n",
    "\n",
    "def plot(samples):\n",
    "    fig = plt.figure(figsize=(4, 4))\n",
    "    gs = gridspec.GridSpec(4, 4)\n",
    "    gs.update(wspace=0.05, hspace=0.05)\n",
    "\n",
    "    for i, sample in enumerate(samples):\n",
    "        ax = plt.subplot(gs[i])\n",
    "        plt.axis('off')\n",
    "        ax.set_xticklabels([])\n",
    "        ax.set_yticklabels([])\n",
    "        ax.set_aspect('equal')\n",
    "        plt.imshow(sample.reshape(width, hight), cmap='Greys_r')\n",
    "\n",
    "    return fig\n",
    "\n",
    "\n",
    "def xavier_init(size):\n",
    "    in_dim = size[0]\n",
    "    xavier_stddev = 1. / tf.sqrt(in_dim / 2.)\n",
    "    return tf.random_normal(shape=size, stddev=xavier_stddev)\n",
    "\n",
    "def Q(X):\n",
    "#     conv1 = tf.nn.conv2d(X, conv1_weight, strides=[1, 1, 1, 1], padding='SAME')\n",
    "#     h1 = tf.nn.relu(tf.nn.bias_add(conv1, conv1_bias))\n",
    "#     h1 = tf.reshape(h1,[mb_size,X_dim])\n",
    "    \n",
    "    h = tf.nn.relu(tf.matmul(tf.reshape(X,[mb_size,X_dim]), Q_W1) + Q_b1)\n",
    "    z_mu = tf.matmul(h, Q_W2_mu) + Q_b2_mu\n",
    "    z_logvar = tf.matmul(h, Q_W2_sigma) + Q_b2_sigma\n",
    "    return z_mu, z_logvar\n",
    "\n",
    "def sample_z(mu, log_var):\n",
    "    eps = tf.random_normal(shape=tf.shape(mu))\n",
    "    return mu + tf.exp(log_var / 2) * eps\n",
    "\n",
    "def P(z):\n",
    "    h1 = tf.nn.relu(tf.matmul(z, P_W1) + P_b1)\n",
    "    h2 = tf.nn.relu(tf.add(tf.nn.conv2d_transpose(tf.reshape(h1,[mb_size, width/4, hight/4, 1]), \n",
    "                                                  deconv1_weight, strides=[1, 2, 2, 1], padding='SAME',\n",
    "                                       output_shape=[mb_size, width/2, hight/2, conv1_features]),deconv1_bias))\n",
    "#     h2 = build_unpool(h2_conv, [1, 2, 2, 1])\n",
    "    \n",
    "    h3 = tf.nn.relu(tf.add(tf.nn.conv2d_transpose(tf.reshape(h2,[mb_size, width/2, hight/2, conv1_features]), \n",
    "                                                  deconv2_weight, strides=[1, 2, 2, 1], padding='SAME',\n",
    "                                       output_shape=[mb_size, width/1, hight/1, conv2_features]),deconv2_bias))\n",
    "    \n",
    "    h4 = (tf.add(tf.nn.conv2d_transpose(tf.reshape(h3,[mb_size, width/1, hight/1, conv2_features]), \n",
    "                                                  deconv3_weight, strides=[1, 1, 1, 1], padding='SAME',\n",
    "                                       output_shape=[mb_size, width/1, hight/1, conv3_features]),deconv3_bias))\n",
    "    \n",
    "    prob = tf.nn.sigmoid(h4)\n",
    "    return prob"
   ]
  },
  {
   "cell_type": "code",
   "execution_count": null,
   "metadata": {
    "collapsed": true
   },
   "outputs": [],
   "source": [
    "# =============================== Q(z|X) ======================================\n",
    "\n",
    "with tf.variable_scope(\"VAE\"):\n",
    "    # X = tf.placeholder(tf.float32, shape=[None, X_dim])\n",
    "    z = tf.placeholder(tf.float32, shape=[None, z_dim])\n",
    "    x_input_shape = (mb_size, width, hight, num_channels_1)\n",
    "    X = tf.placeholder(tf.float32, shape=x_input_shape)\n",
    "\n",
    "    # conv1_weight = tf.Variable(tf.truncated_normal([4, 4, num_channels, conv1_features],\n",
    "    #                                                stddev=0.1, dtype=tf.float32))\n",
    "    # conv1_bias = tf.Variable(tf.zeros([conv1_features], dtype=tf.float32))\n",
    "\n",
    "    Q_W1 = tf.Variable(xavier_init([X_dim, h_dim]),name=\"Q_W1\")\n",
    "    Q_b1 = tf.Variable(tf.zeros(shape=[h_dim]),name=\"Q_b1\")\n",
    "\n",
    "    Q_W2_mu = tf.Variable(xavier_init([h_dim, z_dim]),name=\"Q_W2_mu\")\n",
    "    Q_b2_mu = tf.Variable(tf.zeros(shape=[z_dim]),name=\"Q_b2_mu\")\n",
    "\n",
    "    Q_W2_sigma = tf.Variable(xavier_init([h_dim, z_dim]),name=\"Q_W2_sigma\")\n",
    "    Q_b2_sigma = tf.Variable(tf.zeros(shape=[z_dim]),name=\"Q_b2_sigma\")\n",
    "\n",
    "\n",
    "    # =============================== P(X|z) ======================================\n",
    "\n",
    "    P_W1 = tf.Variable(xavier_init([z_dim, h_dim]),name=\"P_W1\")\n",
    "    P_b1 = tf.Variable(tf.zeros(shape=[h_dim]),name=\"P_b1\")\n",
    "\n",
    "    # P_W2 = tf.Variable(xavier_init([h_dim, X_dim]))\n",
    "    # P_b2 = tf.Variable(tf.zeros(shape=[X_dim]))\n",
    "\n",
    "    deconv1_weight = tf.Variable(tf.truncated_normal([4, 4, conv1_features, num_channels_1],\n",
    "                                                   stddev=0.1, dtype=tf.float32),name=\"deconv1_weight\")\n",
    "    deconv1_bias = tf.Variable(tf.zeros([conv1_features], dtype=tf.float32),name=\"deconv1_bias\")\n",
    "\n",
    "    deconv2_weight = tf.Variable(tf.truncated_normal([4, 4, conv2_features,num_channels_2],\n",
    "                                                   stddev=0.1, dtype=tf.float32),name=\"deconv2_weight\")\n",
    "    deconv2_bias = tf.Variable(tf.zeros([conv2_features], dtype=tf.float32),name=\"deconv2_bias\")\n",
    "\n",
    "    deconv3_weight = tf.Variable(tf.truncated_normal([4, 4, conv3_features, num_channels_3],\n",
    "                                                   stddev=0.1, dtype=tf.float32),name=\"deconv3_weight\")\n",
    "    deconv3_bias = tf.Variable(tf.zeros([conv3_features], dtype=tf.float32),name=\"deconv3_bias\")\n",
    "\n",
    "\n",
    "# =============================== TRAINING ====================================\n",
    "\n",
    "z_mu, z_logvar = Q(X)\n",
    "z_sample = sample_z(z_mu, z_logvar)\n",
    "prob = P(z_sample)\n",
    "\n",
    "# Sampling from random z\n",
    "X_samples = P(z)\n",
    "\n",
    "# point correlation loss\n",
    "# PC_ori=correlation_fun(X, input_dim=input_dim, Rad=Rad)\n",
    "# PC_rec=correlation_fun(prob, input_dim=input_dim, Rad=Rad)\n",
    "# PC_ran=correlation_fun(X_samples,input_dim=input_dim, Rad=Rad)\n",
    "\n",
    "# PC_loss1=tf.abs(PC_ori-PC_rec)\n",
    "# PC_loss2=tf.abs(PC_ori-PC_ran)\n",
    "\n",
    "# E[log P(X|z)]\n",
    "recon_loss = tf.reduce_mean(tf.reduce_sum(tf.square((tf.reshape(prob,[mb_size, X_dim])-\n",
    "                                                     tf.reshape(X,[mb_size, X_dim]))), 1))/4\n",
    "# D_KL(Q(z|X) || P(z|X)); calculate in closed form as both dist. are Gaussian\n",
    "kl_loss =tf.reduce_mean(0.5 * tf.reduce_sum(tf.exp(z_logvar) + z_mu**2 - 1. - z_logvar, 1))\n",
    "\n",
    "# VAE loss\n",
    "vae_loss = tf.reduce_mean(recon_loss + kl_loss)\n",
    "\n",
    "grads = backend.gradients(vae_loss, [prob])\n",
    "\n",
    "\n",
    "\n",
    "\n",
    "\n",
    "\n",
    "\n",
    "\n",
    "\n",
    "\n",
    "\n",
    "\n",
    "\n",
    "\n",
    "\n",
    "\n",
    "\n",
    "\n",
    "solver0 = tf.train.AdamOptimizer(learning_rate=lr).minimize(vae_loss)\n",
    "solver1 = tf.train.AdamOptimizer(learning_rate=lr/10).minimize(vae_loss)\n",
    "solver2 = tf.train.AdamOptimizer(learning_rate=lr/100).minimize(vae_loss)\n",
    "\n",
    "sess = tf.Session()\n",
    "sess.run(tf.global_variables_initializer())\n",
    "\n",
    "if not os.path.exists('out/'):\n",
    "    os.makedirs('out/')\n",
    "\n",
    "i = 0\n",
    "PC_ori=[]\n",
    "saver = tf.train.Saver()\n",
    "\n",
    "for it in range(400000):\n",
    "    X_mb = images[random.sample(range(len(images)),  mb_size)]\n",
    "#     PC_ori = tf.reduce_mean(tf.concat([PC_ori, PC_ori_temp],0))\n",
    "        \n",
    "#     print((it*10)%100,(it*10)%100+mb_size)\n",
    "    _, loss, recon_E, kl_E = sess.run([solver0, vae_loss, recon_loss, kl_loss], \n",
    "                                                    feed_dict={X: X_mb.reshape(mb_size, width, hight, num_channels_1),\n",
    "                                                              z: np.random.randn(mb_size, z_dim)})\n",
    "    \n",
    "    if it % 250 == 0:\n",
    "        print('Iter: {}'.format(it))\n",
    "        print('Loss: {}'.format(loss))\n",
    "        print('recon_E:{}'.format(recon_E))\n",
    "        print('kl_E:{}'.format(kl_E))\n",
    "        \n",
    "        print()\n",
    "\n",
    "        samples = sess.run(X_samples, feed_dict={z: np.random.randn(mb_size, z_dim)})\n",
    "\n",
    "#         fig = plot(samples)\n",
    "#         plt.savefig('out/{}.png'.format(str(i).zfill(3)), bbox_inches='tight')\n",
    "#         i += 1\n",
    "#         plt.close(fig)\n",
    "save_path = saver.save(sess, \"/tmp/model.ckpt\")"
   ]
  }
 ],
 "metadata": {
  "kernelspec": {
   "display_name": "Python 2",
   "language": "python",
   "name": "python2"
  },
  "language_info": {
   "codemirror_mode": {
    "name": "ipython",
    "version": 2
   },
   "file_extension": ".py",
   "mimetype": "text/x-python",
   "name": "python",
   "nbconvert_exporter": "python",
   "pygments_lexer": "ipython2",
   "version": "2.7.13"
  }
 },
 "nbformat": 4,
 "nbformat_minor": 0
}
