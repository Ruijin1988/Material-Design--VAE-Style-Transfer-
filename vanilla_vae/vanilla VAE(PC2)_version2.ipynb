{
 "cells": [
  {
   "cell_type": "code",
   "execution_count": 1,
   "metadata": {
    "collapsed": true
   },
   "outputs": [],
   "source": [
    "import tensorflow as tf\n"
   ]
  },
  {
   "cell_type": "code",
   "execution_count": 2,
   "metadata": {
    "collapsed": false
   },
   "outputs": [
    {
     "name": "stdout",
     "output_type": "stream",
     "text": [
      "[[ 22.  28.]\n",
      " [ 49.  64.]]\n"
     ]
    }
   ],
   "source": [
    "# Creates a graph.\n",
    "with tf.device('/cpu:0'):\n",
    "  a = tf.constant([1.0, 2.0, 3.0, 4.0, 5.0, 6.0], shape=[2, 3], name='a')\n",
    "  b = tf.constant([1.0, 2.0, 3.0, 4.0, 5.0, 6.0], shape=[3, 2], name='b')\n",
    "  c = tf.matmul(a, b)\n",
    "# Creates a session with log_device_placement set to True.\n",
    "sess = tf.Session(config=tf.ConfigProto(log_device_placement=True))\n",
    "# Runs the op.\n",
    "print sess.run(c)"
   ]
  },
  {
   "cell_type": "code",
   "execution_count": 1,
   "metadata": {
    "collapsed": true
   },
   "outputs": [],
   "source": [
    "# Incorporate point-correlation\n",
    "def correlation_fun(x,input_dim,Rad):\n",
    "    point_corr=0\n",
    "    for i in range(input_dim):\n",
    "        for j in range(input_dim):\n",
    "            point_corr_temp1=tf.multiply(x[0][i,j],x[0][i,tf.mod(j+Rad,input_dim)])\n",
    "            point_corr=tf.add(point_corr_temp1,point_corr)\n",
    "    \n",
    "    for i in range(input_dim):\n",
    "        for j in range(input_dim):           \n",
    "            point_corr_temp2=tf.multiply(x[0][i,j],x[0][tf.mod(i+Rad,input_dim),j])\n",
    "            point_corr=tf.add(point_corr_temp2,point_corr)\n",
    "    return (point_corr+2*input_dim**2)/4./1"
   ]
  },
  {
   "cell_type": "code",
   "execution_count": 2,
   "metadata": {
    "collapsed": true
   },
   "outputs": [],
   "source": [
    "def correlation_fun_test(x,input_dim,Rad):\n",
    "    point_corr=0\n",
    "#     if Rad <=50:\n",
    "    for i in range(input_dim):\n",
    "        for j in range(input_dim):\n",
    "            point_corr_temp1=(x[i,j]*x[i,np.mod(j+Rad,input_dim)])\n",
    "            point_corr=point_corr_temp1+point_corr\n",
    "\n",
    "    for i in range(input_dim):\n",
    "        for j in range(input_dim):\n",
    "            point_corr_temp2=x[i,j]*x[np.mod(i+Rad,input_dim),j]\n",
    "            point_corr=(point_corr_temp2+point_corr)\n",
    "#     print(point_corr)\n",
    "    return (point_corr+2*input_dim**2)/4."
   ]
  },
  {
   "cell_type": "code",
   "execution_count": 3,
   "metadata": {
    "collapsed": false,
    "scrolled": true
   },
   "outputs": [
    {
     "name": "stdout",
     "output_type": "stream",
     "text": [
      "('VF=', array([ 648.,  538.,  566.,  528.,  588.,  570.,  564.,  522.,  524.,  520.]))\n",
      "('VF2=', array([ 775.,  750.,  765.,  708.,  801.,  770.,  703.,  675.,  724.,  715.]))\n",
      "('VF3=', array([ 558.,  509.,  559.,  443.,  616.,  499.,  443.,  568.,  460.,  465.]))\n",
      "('VF4=', array([ 607.,  537.,  585.,  549.,  661.,  582.,  558.,  529.,  506.,  490.]))\n",
      "('VF5=', array([ 604.,  554.,  603.,  485.,  645.,  565.,  493.,  511.,  505.,  499.]))\n",
      "Iter: 0\n",
      "Loss: 52984.3867188\n",
      "recon_E:[ 364.22549438]\n",
      "kl_E:[ 19.39350128]\n",
      "PC_E2:1390.87475586\n",
      "PC_E3:48700.9804688\n",
      "PC_E4:53.5664253235\n",
      "PC_E5:1766.0411377\n",
      "PC_E6:689.306030273\n",
      "()\n",
      "Iter: 1000\n",
      "Loss: 243.721618652\n",
      "recon_E:[ 225.7477417]\n",
      "kl_E:[ 17.52812576]\n",
      "PC_E2:0.0512199997902\n",
      "PC_E3:0.132328271866\n",
      "PC_E4:0.0872671604156\n",
      "PC_E5:0.0103894621134\n",
      "PC_E6:0.164543524384\n",
      "()\n",
      "Iter: 2000\n",
      "Loss: 236.236984253\n",
      "recon_E:[ 220.87008667]\n",
      "kl_E:[ 15.26547527]\n",
      "PC_E2:0.00802809000015\n",
      "PC_E3:0.0279475785792\n",
      "PC_E4:0.0105393081903\n",
      "PC_E5:0.0109952837229\n",
      "PC_E6:0.0439043678343\n",
      "()\n",
      "Iter: 3000\n",
      "Loss: 225.586807251\n",
      "recon_E:[ 212.39505005]\n",
      "kl_E:[ 13.09018421]\n",
      "PC_E2:0.000791702419519\n",
      "PC_E3:0.0307918526232\n",
      "PC_E4:0.0344502963126\n",
      "PC_E5:0.034518301487\n",
      "PC_E6:0.00102678313851\n",
      "()\n",
      "Iter: 4000\n",
      "Loss: 224.36517334\n",
      "recon_E:[ 210.51487732]\n",
      "kl_E:[ 12.81997299]\n",
      "PC_E2:0.116283327341\n",
      "PC_E3:0.239552408457\n",
      "PC_E4:0.503611326218\n",
      "PC_E5:0.00118499994278\n",
      "PC_E6:0.169683247805\n",
      "()\n"
     ]
    },
    {
     "name": "stderr",
     "output_type": "stream",
     "text": [
      "/home/p2admin/anaconda2/lib/python2.7/site-packages/matplotlib/pyplot.py:516: RuntimeWarning: More than 20 figures have been opened. Figures created through the pyplot interface (`matplotlib.pyplot.figure`) are retained until explicitly closed and may consume too much memory. (To control this warning, see the rcParam `figure.max_open_warning`).\n",
      "  max_open_warning, RuntimeWarning)\n"
     ]
    },
    {
     "name": "stdout",
     "output_type": "stream",
     "text": [
      "Iter: 5000\n",
      "Loss: 221.098251343\n",
      "recon_E:[ 208.15232849]\n",
      "kl_E:[ 11.54371357]\n",
      "PC_E2:0.444146096706\n",
      "PC_E3:0.160410419106\n",
      "PC_E4:0.490615427494\n",
      "PC_E5:0.128624498844\n",
      "PC_E6:0.178390741348\n",
      "()\n",
      "Iter: 6000\n",
      "Loss: 226.624847412\n",
      "recon_E:[ 213.8407135]\n",
      "kl_E:[ 12.23840714]\n",
      "PC_E2:0.0796862840652\n",
      "PC_E3:0.206152796745\n",
      "PC_E4:0.0852059796453\n",
      "PC_E5:0.12184292078\n",
      "PC_E6:0.0528629459441\n",
      "()\n",
      "Iter: 7000\n",
      "Loss: 216.80670166\n",
      "recon_E:[ 206.75302124]\n",
      "kl_E:[ 9.78063107]\n",
      "PC_E2:0.137846499681\n",
      "PC_E3:0.0736706256866\n",
      "PC_E4:0.0574196726084\n",
      "PC_E5:0.000927601009607\n",
      "PC_E6:0.00319434702396\n",
      "()\n",
      "Iter: 8000\n",
      "Loss: 212.381607056\n",
      "recon_E:[ 203.05516052]\n",
      "kl_E:[ 8.45309067]\n",
      "PC_E2:0.117033809423\n",
      "PC_E3:0.397598594427\n",
      "PC_E4:0.081767231226\n",
      "PC_E5:0.154549181461\n",
      "PC_E6:0.122397482395\n",
      "()\n",
      "Iter: 9000\n",
      "Loss: 219.065856934\n",
      "recon_E:[ 208.14163208]\n",
      "kl_E:[ 9.31575012]\n",
      "PC_E2:0.0574781894684\n",
      "PC_E3:1.26315426826\n",
      "PC_E4:0.000197067856789\n",
      "PC_E5:0.287634760141\n",
      "PC_E6:1.2531876564e-05\n",
      "()\n",
      "Iter: 10000\n",
      "Loss: 212.910507202\n",
      "recon_E:[ 201.70404053]\n",
      "kl_E:[ 10.18550491]\n",
      "PC_E2:0.0178668648005\n",
      "PC_E3:0.655601739883\n",
      "PC_E4:0.032221827656\n",
      "PC_E5:0.0238829255104\n",
      "PC_E6:0.291378557682\n",
      "()\n",
      "Iter: 11000\n",
      "Loss: 217.369110107\n",
      "recon_E:[ 206.89129639]\n",
      "kl_E:[ 9.57142925]\n",
      "PC_E2:0.104722395539\n",
      "PC_E3:0.415814012289\n",
      "PC_E4:0.0470405891538\n",
      "PC_E5:0.308423489332\n",
      "PC_E6:0.0303862094879\n",
      "()\n",
      "Iter: 12000\n",
      "Loss: 217.270309448\n",
      "recon_E:[ 207.40309143]\n",
      "kl_E:[ 9.55265236]\n",
      "PC_E2:0.154933333397\n",
      "PC_E3:0.0692334771156\n",
      "PC_E4:0.0574781894684\n",
      "PC_E5:0.015916261822\n",
      "PC_E6:0.0169966220856\n",
      "()\n",
      "Optimization is done\n",
      "Iter: 12183\n",
      "Loss: 112.048049927\n",
      "recon_E:[ 89.27326965]\n",
      "kl_E:[ 21.43830872]\n",
      "PC_E2:0.993540763855\n",
      "PC_E3:0.0517740249634\n",
      "PC_E4:0.262668758631\n",
      "PC_E5:0.0137329101562\n",
      "PC_E6:0.0147525221109\n",
      "()\n"
     ]
    }
   ],
   "source": [
    "import tensorflow as tf\n",
    "import numpy as np\n",
    "import matplotlib.pyplot as plt\n",
    "import matplotlib.gridspec as gridspec\n",
    "import os\n",
    "import scipy.io as sio\n",
    "# from torch.autograd import Variable\n",
    "from tensorflow.examples.tutorials.mnist import input_data\n",
    "\n",
    "\n",
    "\n",
    "# mnist = input_data.read_data_sets('../../MNIST_data', one_hot=True)\n",
    "images = np.array(sio.loadmat('WB_test64_GAN_sm2.mat')['WB_sm'],dtype='float32')\n",
    "images[images==0]=-1\n",
    "\n",
    "mb_size = 1\n",
    "z_dim = 8\n",
    "X_dim = images.shape[1]\n",
    "width = 32\n",
    "hight = 32\n",
    "h_dim = 8*8\n",
    "input_dim = 32\n",
    "Rad = input_dim/2\n",
    "\n",
    "conv1_features=64\n",
    "conv2_features=32\n",
    "conv3_features=1\n",
    "c = 0\n",
    "\n",
    "num_channels_1=1\n",
    "num_channels_2=64\n",
    "num_channels_3=32\n",
    "lr = 1e-3\n",
    "\n",
    "VF = []\n",
    "for i in range(0,100,10):\n",
    "    VF = np.append(VF, correlation_fun_test(x=images[i].reshape(32,32),input_dim=32,Rad=16))\n",
    "print('VF=',VF)\n",
    "y_target=np.mean(VF)\n",
    "\n",
    "VF2 = []\n",
    "for i in range(0,100,10):\n",
    "    VF2 = np.append(VF2, correlation_fun_test(x=images[i].reshape(32,32),input_dim=32,Rad=1))\n",
    "print('VF2=',VF2)\n",
    "y_target2=np.mean(VF2)\n",
    "\n",
    "VF3 = []\n",
    "for i in range(0,100,10):\n",
    "    VF3 = np.append(VF3, correlation_fun_test(x=images[i].reshape(32,32),input_dim=32,Rad=3))\n",
    "print('VF3=',VF3)\n",
    "y_target3=np.mean(VF3)\n",
    "\n",
    "VF4 = []\n",
    "for i in range(0,100,10):\n",
    "    VF4 = np.append(VF4, correlation_fun_test(x=images[i].reshape(32,32),input_dim=32,Rad=6))\n",
    "print('VF4=',VF4)\n",
    "y_target4=np.mean(VF4)\n",
    "\n",
    "VF5 = []\n",
    "for i in range(0,100,10):\n",
    "    VF5 = np.append(VF5, correlation_fun_test(x=images[i].reshape(32,32),input_dim=32,Rad=2))\n",
    "print('VF5=',VF5)\n",
    "y_target5=np.mean(VF5)\n",
    "\n",
    "# VF6 = []\n",
    "# for i in range(0,100,10):\n",
    "#     VF6 = np.append(VF6, correlation_fun_test(x=images[i].reshape(32,32),input_dim=32,Rad=4))\n",
    "# print('VF6=',VF6)\n",
    "# y_target6=np.mean(VF6)\n",
    "\n",
    "\n",
    "def plot(samples):\n",
    "    fig = plt.figure(figsize=(4, 4))\n",
    "    gs = gridspec.GridSpec(4, 4)\n",
    "    gs.update(wspace=0.05, hspace=0.05)\n",
    "\n",
    "    for i, sample in enumerate(samples):\n",
    "        ax = plt.subplot(gs[i])\n",
    "        plt.axis('off')\n",
    "        ax.set_xticklabels([])\n",
    "        ax.set_yticklabels([])\n",
    "        ax.set_aspect('equal')\n",
    "        plt.imshow(sample.reshape(32, 32), cmap='Greys_r')\n",
    "\n",
    "    return fig\n",
    "\n",
    "\n",
    "def xavier_init(size):\n",
    "    in_dim = size[0]\n",
    "    xavier_stddev = 1. / tf.sqrt(in_dim / 2.)\n",
    "    return tf.random_normal(shape=size, stddev=xavier_stddev)\n",
    "\n",
    "def Q(X):\n",
    "#     conv1 = tf.nn.conv2d(X, conv1_weight, strides=[1, 1, 1, 1], padding='SAME')\n",
    "#     h1 = tf.nn.relu(tf.nn.bias_add(conv1, conv1_bias))\n",
    "#     h1 = tf.reshape(h1,[mb_size,X_dim])\n",
    "    \n",
    "    h = tf.nn.relu(tf.matmul(tf.reshape(X,[mb_size,X_dim]), Q_W1) + Q_b1)\n",
    "    z_mu = tf.matmul(h, Q_W2_mu) + Q_b2_mu\n",
    "    z_logvar = tf.matmul(h, Q_W2_sigma) + Q_b2_sigma\n",
    "    return z_mu, z_logvar\n",
    "\n",
    "def sample_z(mu, log_var):\n",
    "    eps = tf.random_normal(shape=tf.shape(mu))\n",
    "    return mu + tf.exp(log_var / 2) * eps\n",
    "\n",
    "\n",
    "def P(zz):\n",
    "    h1 = tf.nn.relu(tf.matmul(zz, P_W1) + P_b1)\n",
    "    h2 = tf.nn.relu(tf.add(tf.nn.conv2d_transpose(tf.reshape(h1,[mb_size, width/4, hight/4, 1]), \n",
    "                                                  deconv1_weight, strides=[1, 2, 2, 1], padding='SAME',\n",
    "                                       output_shape=[mb_size, width/2, hight/2, conv1_features]),deconv1_bias))\n",
    "#     h2 = build_unpool(h2_conv, [1, 2, 2, 1])\n",
    "    \n",
    "    h3 = tf.nn.relu(tf.add(tf.nn.conv2d_transpose(tf.reshape(h2,[mb_size, width/2, hight/2, conv1_features]), \n",
    "                                                  deconv2_weight, strides=[1, 2, 2, 1], padding='SAME',\n",
    "                                       output_shape=[mb_size, width/1, hight/1, conv2_features]),deconv2_bias))\n",
    "    \n",
    "    h4 = (tf.add(tf.nn.conv2d_transpose(tf.reshape(h3,[mb_size, width/1, hight/1, conv2_features]), \n",
    "                                                  deconv3_weight, strides=[1, 1, 1, 1], padding='SAME',\n",
    "                                       output_shape=[mb_size, width/1, hight/1, conv3_features]),deconv3_bias))\n",
    "    \n",
    "    prob = tf.nn.tanh(h4)\n",
    "    return prob\n",
    "\n",
    "\n",
    "# =============================== Q(z|X) ======================================\n",
    "with tf.device('/cpu:0'):\n",
    "    # X = tf.placeholder(tf.float32, shape=[None, X_dim])\n",
    "    zz = tf.placeholder(tf.float32, shape=[None, z_dim])\n",
    "    z0 = tf.placeholder(tf.float32, shape=[None, z_dim])\n",
    "    z1 = tf.placeholder(tf.float32, shape=[None, z_dim])\n",
    "    z2 = tf.placeholder(tf.float32, shape=[None, z_dim])\n",
    "    z3 = tf.placeholder(tf.float32, shape=[None, z_dim])\n",
    "    z4 = tf.placeholder(tf.float32, shape=[None, z_dim])\n",
    "    # z5 = tf.placeholder(tf.float32, shape=[None, z_dim])\n",
    "    # z6 = tf.placeholder(tf.float32, shape=[None, z_dim])\n",
    "    # z7 = tf.placeholder(tf.float32, shape=[None, z_dim])\n",
    "    # z8 = tf.placeholder(tf.float32, shape=[None, z_dim])\n",
    "    # z9 = tf.placeholder(tf.float32, shape=[None, z_dim])\n",
    "\n",
    "    x_input_shape = (mb_size, width, hight, num_channels_1)\n",
    "    X = tf.placeholder(tf.float32, shape=x_input_shape)\n",
    "    y = tf.placeholder(tf.float32, None)\n",
    "    y2= tf.placeholder(tf.float32, None)\n",
    "    y3= tf.placeholder(tf.float32, None)\n",
    "    y4= tf.placeholder(tf.float32, None)\n",
    "    y5= tf.placeholder(tf.float32, None)\n",
    "    # y6= tf.placeholder(tf.float32, None)\n",
    "    # conv1_weight = tf.Variable(tf.truncated_normal([4, 4, num_channels, conv1_features],\n",
    "    #                                                stddev=0.1, dtype=tf.float32))\n",
    "    # conv1_bias = tf.Variable(tf.zeros([conv1_features], dtype=tf.float32))\n",
    "\n",
    "    Q_W1 = tf.Variable(xavier_init([X_dim, h_dim]))\n",
    "    Q_b1 = tf.Variable(tf.zeros(shape=[h_dim]))\n",
    "\n",
    "    Q_W2_mu = tf.Variable(xavier_init([h_dim, z_dim]))\n",
    "    Q_b2_mu = tf.Variable(tf.zeros(shape=[z_dim]))\n",
    "\n",
    "    Q_W2_sigma = tf.Variable(xavier_init([h_dim, z_dim]))\n",
    "    Q_b2_sigma = tf.Variable(tf.zeros(shape=[z_dim]))\n",
    "\n",
    "    # =============================== P(X|z) ======================================\n",
    "\n",
    "    P_W1 = tf.Variable(xavier_init([z_dim, h_dim]))\n",
    "    P_b1 = tf.Variable(tf.zeros(shape=[h_dim]))\n",
    "\n",
    "    # P_W2 = tf.Variable(xavier_init([h_dim, X_dim]))\n",
    "    # P_b2 = tf.Variable(tf.zeros(shape=[X_dim]))\n",
    "\n",
    "    deconv1_weight = tf.Variable(tf.truncated_normal([4, 4, conv1_features, num_channels_1],\n",
    "                                                   stddev=0.1, dtype=tf.float32))\n",
    "    deconv1_bias = tf.Variable(tf.zeros([conv1_features], dtype=tf.float32))\n",
    "\n",
    "    deconv2_weight = tf.Variable(tf.truncated_normal([4, 4, conv2_features,num_channels_2],\n",
    "                                                   stddev=0.1, dtype=tf.float32))\n",
    "    deconv2_bias = tf.Variable(tf.zeros([conv2_features], dtype=tf.float32))\n",
    "\n",
    "    deconv3_weight = tf.Variable(tf.truncated_normal([4, 4, conv3_features, num_channels_3],\n",
    "                                                   stddev=0.1, dtype=tf.float32))\n",
    "    deconv3_bias = tf.Variable(tf.zeros([conv3_features], dtype=tf.float32))\n",
    "\n",
    "\n",
    "\n",
    "    # =============================== TRAINING ====================================\n",
    "\n",
    "    z_mu, z_logvar = Q(X)\n",
    "    z_sample = sample_z(z_mu, z_logvar)\n",
    "    prob = P(z_sample)\n",
    "\n",
    "    # Sampling from random z\n",
    "    X_samples  = P(zz)\n",
    "    X_samples0 = P(z0)\n",
    "    X_samples1 = P(z1)\n",
    "    X_samples2 = P(z2)\n",
    "    X_samples3 = P(z3)\n",
    "    X_samples4 = P(z4)\n",
    "    # X_samples5 = P(z5)\n",
    "    # X_samples6 = P(z6)\n",
    "    # X_samples7 = P(z7)\n",
    "    # X_samples8 = P(z8)\n",
    "    # X_samples9 = P(z9)\n",
    "\n",
    "    # point correlation loss\n",
    "    PC_ori=correlation_fun(X, input_dim=input_dim, Rad=Rad)\n",
    "    PC_rec=correlation_fun(prob, input_dim=input_dim, Rad=Rad)\n",
    "\n",
    "    PC_ran_temp=tf.add_n([correlation_fun(X_samples0,input_dim=input_dim, Rad=Rad),\n",
    "                     correlation_fun(X_samples1,input_dim=input_dim, Rad=Rad),\n",
    "                     correlation_fun(X_samples2,input_dim=input_dim, Rad=Rad),\n",
    "                     correlation_fun(X_samples3,input_dim=input_dim, Rad=Rad),\n",
    "                     correlation_fun(X_samples4,input_dim=input_dim, Rad=Rad),\n",
    "    #                  correlation_fun(X_samples5,input_dim=input_dim, Rad=Rad),\n",
    "    #                  correlation_fun(X_samples6,input_dim=input_dim, Rad=Rad),\n",
    "    #                  correlation_fun(X_samples7,input_dim=input_dim, Rad=Rad),\n",
    "    #                  correlation_fun(X_samples8,input_dim=input_dim, Rad=Rad),\n",
    "    #                  correlation_fun(X_samples9,input_dim=input_dim, Rad=Rad)\n",
    "                         ])/5\n",
    "\n",
    "    PC_ran_temp2=tf.add_n([correlation_fun(X_samples0,input_dim=input_dim, Rad=1),\n",
    "                     correlation_fun(X_samples1,input_dim=input_dim, Rad=1),\n",
    "                     correlation_fun(X_samples2,input_dim=input_dim, Rad=1),\n",
    "                     correlation_fun(X_samples3,input_dim=input_dim, Rad=1),\n",
    "                     correlation_fun(X_samples4,input_dim=input_dim, Rad=1),\n",
    "    #                  correlation_fun(X_samples5,input_dim=input_dim, Rad=0),\n",
    "    #                  correlation_fun(X_samples6,input_dim=input_dim, Rad=0),\n",
    "    #                  correlation_fun(X_samples7,input_dim=input_dim, Rad=0),\n",
    "    #                  correlation_fun(X_samples8,input_dim=input_dim, Rad=0),\n",
    "    #                  correlation_fun(X_samples9,input_dim=input_dim, Rad=0)\n",
    "                          ])/5\n",
    "\n",
    "    PC_ran_temp3=tf.add_n([correlation_fun(X_samples0,input_dim=input_dim, Rad=3),\n",
    "                     correlation_fun(X_samples1,input_dim=input_dim, Rad=3),\n",
    "                     correlation_fun(X_samples2,input_dim=input_dim, Rad=3),\n",
    "                     correlation_fun(X_samples3,input_dim=input_dim, Rad=3),\n",
    "                     correlation_fun(X_samples4,input_dim=input_dim, Rad=3),\n",
    "    #                  correlation_fun(X_samples5,input_dim=input_dim, Rad=3),\n",
    "    #                  correlation_fun(X_samples6,input_dim=input_dim, Rad=3),\n",
    "    #                  correlation_fun(X_samples7,input_dim=input_dim, Rad=3),\n",
    "    #                  correlation_fun(X_samples8,input_dim=input_dim, Rad=3),\n",
    "    #                  correlation_fun(X_samples9,input_dim=input_dim, Rad=3)\n",
    "                          ])/5\n",
    "\n",
    "    PC_ran_temp4=tf.add_n([correlation_fun(X_samples0,input_dim=input_dim, Rad=6),\n",
    "                     correlation_fun(X_samples1,input_dim=input_dim, Rad=6),\n",
    "                     correlation_fun(X_samples2,input_dim=input_dim, Rad=6),\n",
    "                     correlation_fun(X_samples3,input_dim=input_dim, Rad=6),\n",
    "                     correlation_fun(X_samples4,input_dim=input_dim, Rad=6),\n",
    "    #                  correlation_fun(X_samples5,input_dim=input_dim, Rad=3),\n",
    "    #                  correlation_fun(X_samples6,input_dim=input_dim, Rad=3),\n",
    "    #                  correlation_fun(X_samples7,input_dim=input_dim, Rad=3),\n",
    "    #                  correlation_fun(X_samples8,input_dim=input_dim, Rad=3),\n",
    "    #                  correlation_fun(X_samples9,input_dim=input_dim, Rad=3)\n",
    "                          ])/5\n",
    "\n",
    "    PC_ran_temp5=tf.add_n([correlation_fun(X_samples0,input_dim=input_dim, Rad=2),\n",
    "                     correlation_fun(X_samples1,input_dim=input_dim, Rad=2),\n",
    "                     correlation_fun(X_samples2,input_dim=input_dim, Rad=2),\n",
    "                     correlation_fun(X_samples3,input_dim=input_dim, Rad=2),\n",
    "                     correlation_fun(X_samples4,input_dim=input_dim, Rad=2),\n",
    "    #                  correlation_fun(X_samples5,input_dim=input_dim, Rad=3),\n",
    "    #                  correlation_fun(X_samples6,input_dim=input_dim, Rad=3),\n",
    "    #                  correlation_fun(X_samples7,input_dim=input_dim, Rad=3),\n",
    "    #                  correlation_fun(X_samples8,input_dim=input_dim, Rad=3),\n",
    "    #                  correlation_fun(X_samples9,input_dim=input_dim, Rad=3)\n",
    "                          ])/5\n",
    "\n",
    "    # PC_ran_temp6=tf.add_n([correlation_fun(X_samples0,input_dim=input_dim, Rad=4),\n",
    "    #                  correlation_fun(X_samples1,input_dim=input_dim, Rad=4),\n",
    "    #                  correlation_fun(X_samples2,input_dim=input_dim, Rad=4),\n",
    "    #                  correlation_fun(X_samples3,input_dim=input_dim, Rad=4),\n",
    "    # #                  correlation_fun(X_samples4,input_dim=input_dim, Rad=6),\n",
    "    # #                  correlation_fun(X_samples5,input_dim=input_dim, Rad=3),\n",
    "    # #                  correlation_fun(X_samples6,input_dim=input_dim, Rad=3),\n",
    "    # #                  correlation_fun(X_samples7,input_dim=input_dim, Rad=3),\n",
    "    # #                  correlation_fun(X_samples8,input_dim=input_dim, Rad=3),\n",
    "    # #                  correlation_fun(X_samples9,input_dim=input_dim, Rad=3)\n",
    "    #                       ])/4\n",
    "\n",
    "    PC_ran = PC_ran_temp\n",
    "    PC_ran2= PC_ran_temp2\n",
    "    PC_ran3= PC_ran_temp3\n",
    "    PC_ran4= PC_ran_temp4\n",
    "    PC_ran5= PC_ran_temp5\n",
    "    # PC_ran6= PC_ran_temp6\n",
    "    # PC_loss1=tf.abs(PC_ori-PC_rec)\n",
    "    PC_loss2=tf.reduce_mean(tf.square(y-PC_ran))\n",
    "    PC_loss3=tf.reduce_mean(tf.square(y2-PC_ran2))\n",
    "    PC_loss4=tf.reduce_mean(tf.square(y3-PC_ran3))\n",
    "    PC_loss5=tf.reduce_mean(tf.square(y4-PC_ran4))\n",
    "    PC_loss6=tf.reduce_mean(tf.square(y5-PC_ran5))\n",
    "    # PC_loss7=tf.reduce_mean(tf.square(y6-PC_ran6))\n",
    "\n",
    "    # E[log P(X|z)]\n",
    "    recon_loss = tf.reduce_sum(tf.square((tf.reshape(prob,[mb_size, X_dim])-tf.reshape(X,[mb_size, X_dim]))), 1)/4\n",
    "    # D_KL(Q(z|X) || P(z|X)); calculate in closed form as both dist. are Gaussian\n",
    "    kl_loss = 0.5 * tf.reduce_sum(tf.exp(z_logvar) + z_mu**2 - 1. - z_logvar, 1)\n",
    "\n",
    "    # VAE loss\n",
    "    vae_loss = tf.reduce_mean(recon_loss + kl_loss + PC_loss2 + PC_loss3 + PC_loss4 + PC_loss5 + PC_loss6)\n",
    "\n",
    "    solver = tf.train.AdamOptimizer().minimize(vae_loss)\n",
    "\n",
    "    saver = tf.train.Saver()\n",
    "\n",
    "    sess = tf.Session()\n",
    "\n",
    "    sess.run(tf.global_variables_initializer())\n",
    "\n",
    "    if not os.path.exists('out/'):\n",
    "        os.makedirs('out/')\n",
    "\n",
    "    i = 0\n",
    "    PC_ori=[]\n",
    "    z = np.random.randn(10, z_dim)\n",
    "\n",
    "\n",
    "    for it in range(30000):\n",
    "        X_mb = images[(it*10)%100:(it*10)%100+mb_size]\n",
    "    #     PC_ori = tf.reduce_mean(tf.concat([PC_ori, PC_ori_temp],0))\n",
    "\n",
    "    #     print((it*10)%100,(it*10)%100+mb_size)\n",
    "        _, loss, recon_E, kl_E, PC_E2, PC_E3, PC_E4, PC_E5, PC_E6 = sess.run([solver, vae_loss, recon_loss, kl_loss, PC_loss2, PC_loss3, PC_loss4, PC_loss5, PC_loss6], \n",
    "                                                        feed_dict={X: X_mb.reshape(mb_size, width, hight, num_channels_1),\n",
    "                                                                  z0: z[0].reshape(1,z_dim),\n",
    "                                                                  z1: z[1].reshape(1,z_dim),\n",
    "                                                                  z2: z[2].reshape(1,z_dim),\n",
    "                                                                  z3: z[3].reshape(1,z_dim),\n",
    "                                                                  z4: z[4].reshape(1,z_dim),\n",
    "    #                                                               z5: z[5].reshape(1,z_dim),\n",
    "    #                                                               z6: z[6].reshape(1,z_dim),\n",
    "    #                                                               z7: z[7].reshape(1,z_dim),\n",
    "    #                                                               z8: z[8].reshape(1,z_dim),\n",
    "    #                                                               z9: z[9].reshape(1,z_dim),\n",
    "                                                                  y: y_target,\n",
    "                                                                  y2:y_target2,\n",
    "                                                                  y3:y_target3,\n",
    "                                                                  y4:y_target4,\n",
    "                                                                  y5:y_target5})\n",
    "\n",
    "        if recon_E[0] <= 90:\n",
    "            print('Optimization is done')\n",
    "            print('Iter: {}'.format(it))\n",
    "            print('Loss: {}'.format(loss))\n",
    "            print('recon_E:{}'.format(recon_E))\n",
    "            print('kl_E:{}'.format(kl_E))\n",
    "    #         print('PC_E1:{}'.format(PC_E1))\n",
    "            print('PC_E2:{}'.format(PC_E2))\n",
    "            print('PC_E3:{}'.format(PC_E3))\n",
    "            print('PC_E4:{}'.format(PC_E4))\n",
    "            print('PC_E5:{}'.format(PC_E5))\n",
    "            print('PC_E6:{}'.format(PC_E6))\n",
    "    #         print('PC_E7:{}'.format(PC_E7))\n",
    "            print()\n",
    "            break\n",
    "\n",
    "        if it % 1000 == 0:\n",
    "            print('Iter: {}'.format(it))\n",
    "            print('Loss: {}'.format(loss))\n",
    "            print('recon_E:{}'.format(recon_E))\n",
    "            print('kl_E:{}'.format(kl_E))\n",
    "    #         print('PC_E1:{}'.format(PC_E1))\n",
    "            print('PC_E2:{}'.format(PC_E2))\n",
    "            print('PC_E3:{}'.format(PC_E3))\n",
    "            print('PC_E4:{}'.format(PC_E4))\n",
    "            print('PC_E5:{}'.format(PC_E5)) \n",
    "            print('PC_E6:{}'.format(PC_E6))\n",
    "    #         print('PC_E7:{}'.format(PC_E7))\n",
    "            print()\n",
    "\n",
    "            samples0 = sess.run(X_samples, feed_dict={zz: z[0].reshape(1,z_dim)})\n",
    "            samples1 = sess.run(X_samples, feed_dict={zz: z[1].reshape(1,z_dim)})\n",
    "            samples2 = sess.run(X_samples, feed_dict={zz: z[2].reshape(1,z_dim)})\n",
    "            samples3 = sess.run(X_samples, feed_dict={zz: z[3].reshape(1,z_dim)})\n",
    "            samples4 = sess.run(X_samples, feed_dict={zz: z[4].reshape(1,z_dim)})\n",
    "    #         samples5 = sess.run(X_samples, feed_dict={zz: z[5].reshape(1,z_dim)})\n",
    "    #         samples6 = sess.run(X_samples, feed_dict={zz: z[6].reshape(1,z_dim)})\n",
    "    #         samples7 = sess.run(X_samples, feed_dict={zz: z[7].reshape(1,z_dim)})\n",
    "    #         samples8 = sess.run(X_samples, feed_dict={zz: z[8].reshape(1,z_dim)})\n",
    "    #         samples9 = sess.run(X_samples, feed_dict={zz: z[9].reshape(1,z_dim)})\n",
    "\n",
    "\n",
    "            fig0 = plot(samples0)\n",
    "            k=0\n",
    "            plt.savefig('out/{}-{}.png'.format(str(i).zfill(3),str(k).zfill(3)), bbox_inches='tight')\n",
    "            fig1 = plot(samples1)\n",
    "            k=k+1\n",
    "            plt.savefig('out/{}-{}.png'.format(str(i).zfill(3),str(k).zfill(3)), bbox_inches='tight')\n",
    "            fig2 = plot(samples2)\n",
    "            k=k+1\n",
    "            plt.savefig('out/{}-{}.png'.format(str(i).zfill(3),str(k).zfill(3)), bbox_inches='tight')\n",
    "            fig3 = plot(samples3)\n",
    "            k=k+1\n",
    "            plt.savefig('out/{}-{}.png'.format(str(i).zfill(3),str(k).zfill(3)), bbox_inches='tight')\n",
    "            fig4 = plot(samples4)\n",
    "            k=k+1\n",
    "            plt.savefig('out/{}-{}.png'.format(str(i).zfill(3),str(k).zfill(3)), bbox_inches='tight')\n",
    "    #         fig5 = plot(samples5)\n",
    "    #         k=k+1\n",
    "    #         plt.savefig('out/{}-{}.png'.format(str(i).zfill(3),str(k).zfill(3)), bbox_inches='tight')\n",
    "    #         fig6 = plot(samples6)\n",
    "    #         k=k+1\n",
    "    #         plt.savefig('out/{}-{}.png'.format(str(i).zfill(3),str(k).zfill(3)), bbox_inches='tight')\n",
    "    #         fig7 = plot(samples7)\n",
    "    #         k=k+1\n",
    "    #         plt.savefig('out/{}-{}.png'.format(str(i).zfill(3),str(k).zfill(3)), bbox_inches='tight')\n",
    "    #         fig8 = plot(samples8)\n",
    "    #         k=k+1\n",
    "    #         plt.savefig('out/{}-{}.png'.format(str(i).zfill(3),str(k).zfill(3)), bbox_inches='tight')\n",
    "    #         fig9 = plot(samples9)\n",
    "    #         k=k+1\n",
    "    #         plt.savefig('out/{}-{}.png'.format(str(i).zfill(3),str(k).zfill(3)), bbox_inches='tight')\n",
    "            i += 1\n",
    "    #         plt.close(fig)\n",
    "    # save_path = saver.save(sess, \"/tmp/model.ckpt\")"
   ]
  },
  {
   "cell_type": "code",
   "execution_count": 15,
   "metadata": {
    "collapsed": true
   },
   "outputs": [],
   "source": [
    "save_path = saver.save(sess, \"/tmp/model.ckpt\")"
   ]
  },
  {
   "cell_type": "code",
   "execution_count": 28,
   "metadata": {
    "collapsed": false,
    "scrolled": true
   },
   "outputs": [
    {
     "name": "stdout",
     "output_type": "stream",
     "text": [
      "Iter: 30000\n",
      "Loss: 203.202438354\n",
      "recon_E:[ 197.12226868]\n",
      "kl_E:[ 5.83043575]\n",
      "PC_E2:0.000162724405527\n",
      "PC_E3:0.160410419106\n",
      "PC_E4:0.000151255168021\n",
      "PC_E5:0.0890066623688\n",
      "()\n",
      "Iter: 31000\n",
      "Loss: 204.912368774\n",
      "recon_E:[ 199.13769531]\n",
      "kl_E:[ 5.57554722]\n",
      "PC_E2:1.21034681797e-05\n",
      "PC_E3:0.107465833426\n",
      "PC_E4:0.000465520657599\n",
      "PC_E5:0.0911683142185\n",
      "()\n",
      "Iter: 32000\n",
      "Loss: 206.496368408\n",
      "recon_E:[ 200.98336792]\n",
      "kl_E:[ 5.30443716]\n",
      "PC_E2:7.9408288002e-05\n",
      "PC_E3:0.106946244836\n",
      "PC_E4:0.000798586755991\n",
      "PC_E5:0.10073184967\n",
      "()\n",
      "Iter: 33000\n",
      "Loss: 208.658065796\n",
      "recon_E:[ 203.47558594]\n",
      "kl_E:[ 4.96240664]\n",
      "PC_E2:0.000195357948542\n",
      "PC_E3:0.118836402893\n",
      "PC_E4:0.000230971723795\n",
      "PC_E5:0.10080935061\n",
      "()\n",
      "Iter: 34000\n",
      "Loss: 204.369506836\n",
      "recon_E:[ 199.46847534]\n",
      "kl_E:[ 4.68854809]\n",
      "PC_E2:0.000391066074371\n",
      "PC_E3:0.112444296479\n",
      "PC_E4:0.000461578369141\n",
      "PC_E5:0.0991880893707\n",
      "()\n",
      "Iter: 35000\n",
      "Loss: 203.794143677\n",
      "recon_E:[ 199.15609741]\n",
      "kl_E:[ 4.42508793]\n",
      "PC_E2:0.000774621963501\n",
      "PC_E3:0.113716810942\n",
      "PC_E4:0.000448558479548\n",
      "PC_E5:0.0979998707771\n",
      "()\n",
      "Iter: 36000\n",
      "Loss: 202.814086914\n",
      "recon_E:[ 198.28121948]\n",
      "kl_E:[ 4.3337822]\n",
      "PC_E2:0.000225439667702\n",
      "PC_E3:0.103658527136\n",
      "PC_E4:0.000152760185301\n",
      "PC_E5:0.0950418412685\n",
      "()\n",
      "Iter: 37000\n",
      "Loss: 202.721481323\n",
      "recon_E:[ 198.42932129]\n",
      "kl_E:[ 4.09612942]\n",
      "PC_E2:1.49011611938e-06\n",
      "PC_E3:0.104722395539\n",
      "PC_E4:0.000397124327719\n",
      "PC_E5:0.0909104943275\n",
      "()\n",
      "Iter: 38000\n",
      "Loss: 203.228485107\n",
      "recon_E:[ 198.95568848]\n",
      "kl_E:[ 4.0135808]\n",
      "PC_E2:6.99199736118e-05\n",
      "PC_E3:0.166330948472\n",
      "PC_E4:0.000306848436594\n",
      "PC_E5:0.0925000309944\n",
      "()\n",
      "Iter: 39000\n",
      "Loss: 204.560501099\n",
      "recon_E:[ 200.53863525]\n",
      "kl_E:[ 3.83753395]\n",
      "PC_E2:3.72529029846e-05\n",
      "PC_E3:0.0911683142185\n",
      "PC_E4:0.000398341566324\n",
      "PC_E5:0.0927229225636\n",
      "()\n",
      "Iter: 40000\n",
      "Loss: 204.978424072\n",
      "recon_E:[ 201.00372314]\n",
      "kl_E:[ 3.77017093]\n",
      "PC_E2:7.61784613132e-05\n",
      "PC_E3:0.10342285037\n",
      "PC_E4:0.000716307200491\n",
      "PC_E5:0.100306123495\n",
      "()\n",
      "Iter: 41000\n",
      "Loss: 203.12840271\n",
      "recon_E:[ 199.44708252]\n",
      "kl_E:[ 3.59358144]\n",
      "PC_E2:0.00117242708802\n",
      "PC_E3:0.0643135011196\n",
      "PC_E4:0.0221788883209\n",
      "PC_E5:5.91427087784e-05\n",
      "()\n",
      "Iter: 42000\n",
      "Loss: 205.632415771\n",
      "recon_E:[ 202.08265686]\n",
      "kl_E:[ 3.46085358]\n",
      "PC_E2:0.00278735533357\n",
      "PC_E3:0.0674781799316\n",
      "PC_E4:0.0185920149088\n",
      "PC_E5:4.10713255405e-05\n",
      "()\n",
      "Iter: 43000\n",
      "Loss: 202.843688965\n",
      "recon_E:[ 199.49227905]\n",
      "kl_E:[ 3.27132988]\n",
      "PC_E2:0.00344038382173\n",
      "PC_E3:0.0599030405283\n",
      "PC_E4:0.0167429447174\n",
      "PC_E5:4.82797622681e-06\n",
      "()\n"
     ]
    },
    {
     "ename": "KeyboardInterrupt",
     "evalue": "",
     "output_type": "error",
     "traceback": [
      "\u001b[0;31m---------------------------------------------------------------------------\u001b[0m",
      "\u001b[0;31mKeyboardInterrupt\u001b[0m                         Traceback (most recent call last)",
      "\u001b[0;32m<ipython-input-28-b5bb906b4ed8>\u001b[0m in \u001b[0;36m<module>\u001b[0;34m()\u001b[0m\n\u001b[1;32m     21\u001b[0m                                                               \u001b[0my2\u001b[0m\u001b[0;34m:\u001b[0m\u001b[0my_target2\u001b[0m\u001b[0;34m,\u001b[0m\u001b[0;34m\u001b[0m\u001b[0m\n\u001b[1;32m     22\u001b[0m                                                               \u001b[0my3\u001b[0m\u001b[0;34m:\u001b[0m\u001b[0my_target3\u001b[0m\u001b[0;34m,\u001b[0m\u001b[0;34m\u001b[0m\u001b[0m\n\u001b[0;32m---> 23\u001b[0;31m                                                               y4:y_target4})\n\u001b[0m\u001b[1;32m     24\u001b[0m \u001b[0;34m\u001b[0m\u001b[0m\n\u001b[1;32m     25\u001b[0m     \u001b[0;32mif\u001b[0m \u001b[0mrecon_E\u001b[0m\u001b[0;34m[\u001b[0m\u001b[0;36m0\u001b[0m\u001b[0;34m]\u001b[0m \u001b[0;34m<=\u001b[0m \u001b[0;36m90\u001b[0m\u001b[0;34m:\u001b[0m\u001b[0;34m\u001b[0m\u001b[0m\n",
      "\u001b[0;32m/home/doi4/Downloads/ENTER/lib/python2.7/site-packages/tensorflow/python/client/session.pyc\u001b[0m in \u001b[0;36mrun\u001b[0;34m(self, fetches, feed_dict, options, run_metadata)\u001b[0m\n\u001b[1;32m    765\u001b[0m     \u001b[0;32mtry\u001b[0m\u001b[0;34m:\u001b[0m\u001b[0;34m\u001b[0m\u001b[0m\n\u001b[1;32m    766\u001b[0m       result = self._run(None, fetches, feed_dict, options_ptr,\n\u001b[0;32m--> 767\u001b[0;31m                          run_metadata_ptr)\n\u001b[0m\u001b[1;32m    768\u001b[0m       \u001b[0;32mif\u001b[0m \u001b[0mrun_metadata\u001b[0m\u001b[0;34m:\u001b[0m\u001b[0;34m\u001b[0m\u001b[0m\n\u001b[1;32m    769\u001b[0m         \u001b[0mproto_data\u001b[0m \u001b[0;34m=\u001b[0m \u001b[0mtf_session\u001b[0m\u001b[0;34m.\u001b[0m\u001b[0mTF_GetBuffer\u001b[0m\u001b[0;34m(\u001b[0m\u001b[0mrun_metadata_ptr\u001b[0m\u001b[0;34m)\u001b[0m\u001b[0;34m\u001b[0m\u001b[0m\n",
      "\u001b[0;32m/home/doi4/Downloads/ENTER/lib/python2.7/site-packages/tensorflow/python/client/session.pyc\u001b[0m in \u001b[0;36m_run\u001b[0;34m(self, handle, fetches, feed_dict, options, run_metadata)\u001b[0m\n\u001b[1;32m    963\u001b[0m     \u001b[0;32mif\u001b[0m \u001b[0mfinal_fetches\u001b[0m \u001b[0;32mor\u001b[0m \u001b[0mfinal_targets\u001b[0m\u001b[0;34m:\u001b[0m\u001b[0;34m\u001b[0m\u001b[0m\n\u001b[1;32m    964\u001b[0m       results = self._do_run(handle, final_targets, final_fetches,\n\u001b[0;32m--> 965\u001b[0;31m                              feed_dict_string, options, run_metadata)\n\u001b[0m\u001b[1;32m    966\u001b[0m     \u001b[0;32melse\u001b[0m\u001b[0;34m:\u001b[0m\u001b[0;34m\u001b[0m\u001b[0m\n\u001b[1;32m    967\u001b[0m       \u001b[0mresults\u001b[0m \u001b[0;34m=\u001b[0m \u001b[0;34m[\u001b[0m\u001b[0;34m]\u001b[0m\u001b[0;34m\u001b[0m\u001b[0m\n",
      "\u001b[0;32m/home/doi4/Downloads/ENTER/lib/python2.7/site-packages/tensorflow/python/client/session.pyc\u001b[0m in \u001b[0;36m_do_run\u001b[0;34m(self, handle, target_list, fetch_list, feed_dict, options, run_metadata)\u001b[0m\n\u001b[1;32m   1013\u001b[0m     \u001b[0;32mif\u001b[0m \u001b[0mhandle\u001b[0m \u001b[0;32mis\u001b[0m \u001b[0mNone\u001b[0m\u001b[0;34m:\u001b[0m\u001b[0;34m\u001b[0m\u001b[0m\n\u001b[1;32m   1014\u001b[0m       return self._do_call(_run_fn, self._session, feed_dict, fetch_list,\n\u001b[0;32m-> 1015\u001b[0;31m                            target_list, options, run_metadata)\n\u001b[0m\u001b[1;32m   1016\u001b[0m     \u001b[0;32melse\u001b[0m\u001b[0;34m:\u001b[0m\u001b[0;34m\u001b[0m\u001b[0m\n\u001b[1;32m   1017\u001b[0m       return self._do_call(_prun_fn, self._session, handle, feed_dict,\n",
      "\u001b[0;32m/home/doi4/Downloads/ENTER/lib/python2.7/site-packages/tensorflow/python/client/session.pyc\u001b[0m in \u001b[0;36m_do_call\u001b[0;34m(self, fn, *args)\u001b[0m\n\u001b[1;32m   1020\u001b[0m   \u001b[0;32mdef\u001b[0m \u001b[0m_do_call\u001b[0m\u001b[0;34m(\u001b[0m\u001b[0mself\u001b[0m\u001b[0;34m,\u001b[0m \u001b[0mfn\u001b[0m\u001b[0;34m,\u001b[0m \u001b[0;34m*\u001b[0m\u001b[0margs\u001b[0m\u001b[0;34m)\u001b[0m\u001b[0;34m:\u001b[0m\u001b[0;34m\u001b[0m\u001b[0m\n\u001b[1;32m   1021\u001b[0m     \u001b[0;32mtry\u001b[0m\u001b[0;34m:\u001b[0m\u001b[0;34m\u001b[0m\u001b[0m\n\u001b[0;32m-> 1022\u001b[0;31m       \u001b[0;32mreturn\u001b[0m \u001b[0mfn\u001b[0m\u001b[0;34m(\u001b[0m\u001b[0;34m*\u001b[0m\u001b[0margs\u001b[0m\u001b[0;34m)\u001b[0m\u001b[0;34m\u001b[0m\u001b[0m\n\u001b[0m\u001b[1;32m   1023\u001b[0m     \u001b[0;32mexcept\u001b[0m \u001b[0merrors\u001b[0m\u001b[0;34m.\u001b[0m\u001b[0mOpError\u001b[0m \u001b[0;32mas\u001b[0m \u001b[0me\u001b[0m\u001b[0;34m:\u001b[0m\u001b[0;34m\u001b[0m\u001b[0m\n\u001b[1;32m   1024\u001b[0m       \u001b[0mmessage\u001b[0m \u001b[0;34m=\u001b[0m \u001b[0mcompat\u001b[0m\u001b[0;34m.\u001b[0m\u001b[0mas_text\u001b[0m\u001b[0;34m(\u001b[0m\u001b[0me\u001b[0m\u001b[0;34m.\u001b[0m\u001b[0mmessage\u001b[0m\u001b[0;34m)\u001b[0m\u001b[0;34m\u001b[0m\u001b[0m\n",
      "\u001b[0;32m/home/doi4/Downloads/ENTER/lib/python2.7/site-packages/tensorflow/python/client/session.pyc\u001b[0m in \u001b[0;36m_run_fn\u001b[0;34m(session, feed_dict, fetch_list, target_list, options, run_metadata)\u001b[0m\n\u001b[1;32m   1002\u001b[0m         return tf_session.TF_Run(session, options,\n\u001b[1;32m   1003\u001b[0m                                  \u001b[0mfeed_dict\u001b[0m\u001b[0;34m,\u001b[0m \u001b[0mfetch_list\u001b[0m\u001b[0;34m,\u001b[0m \u001b[0mtarget_list\u001b[0m\u001b[0;34m,\u001b[0m\u001b[0;34m\u001b[0m\u001b[0m\n\u001b[0;32m-> 1004\u001b[0;31m                                  status, run_metadata)\n\u001b[0m\u001b[1;32m   1005\u001b[0m \u001b[0;34m\u001b[0m\u001b[0m\n\u001b[1;32m   1006\u001b[0m     \u001b[0;32mdef\u001b[0m \u001b[0m_prun_fn\u001b[0m\u001b[0;34m(\u001b[0m\u001b[0msession\u001b[0m\u001b[0;34m,\u001b[0m \u001b[0mhandle\u001b[0m\u001b[0;34m,\u001b[0m \u001b[0mfeed_dict\u001b[0m\u001b[0;34m,\u001b[0m \u001b[0mfetch_list\u001b[0m\u001b[0;34m)\u001b[0m\u001b[0;34m:\u001b[0m\u001b[0;34m\u001b[0m\u001b[0m\n",
      "\u001b[0;31mKeyboardInterrupt\u001b[0m: "
     ]
    },
    {
     "data": {
      "image/png": "[encoded data removed]",
      "text/plain": [
       "<matplotlib.figure.Figure at 0x7ff4b9d18c10>"
      ]
     },
     "metadata": {},
     "output_type": "display_data"
    },
    {
     "data": {
      "image/png": "[encoded data removed]",
      "text/plain": [
       "<matplotlib.figure.Figure at 0x7ff4b6237790>"
      ]
     },
     "metadata": {},
     "output_type": "display_data"
    },
    {
     "data": {
      "image/png": "[encoded data removed]",
      "text/plain": [
       "<matplotlib.figure.Figure at 0x7ff4b63ddc10>"
      ]
     },
     "metadata": {},
     "output_type": "display_data"
    },
    {
     "data": {
      "image/png": "[encoded data removed]",
      "text/plain": [
       "<matplotlib.figure.Figure at 0x7ff4b63dd890>"
      ]
     },
     "metadata": {},
     "output_type": "display_data"
    },
    {
     "data": {
      "image/png": "[encoded data removed]",
      "text/plain": [
       "<matplotlib.figure.Figure at 0x7ff4b58708d0>"
      ]
     },
     "metadata": {},
     "output_type": "display_data"
    },
    {
     "data": {
      "image/png": "[encoded data removed]",
      "text/plain": [
       "<matplotlib.figure.Figure at 0x7ff4b5812510>"
      ]
     },
     "metadata": {},
     "output_type": "display_data"
    },
    {
     "data": {
      "image/png": "[encoded data removed]",
      "text/plain": [
       "<matplotlib.figure.Figure at 0x7ff4b66b5850>"
      ]
     },
     "metadata": {},
     "output_type": "display_data"
    },
    {
     "data": {
      "image/png": "[encoded data removed]",
      "text/plain": [
       "<matplotlib.figure.Figure at 0x7ff4b6730990>"
      ]
     },
     "metadata": {},
     "output_type": "display_data"
    },
    {
     "data": {
      "image/png": "[encoded data removed]",
      "text/plain": [
       "<matplotlib.figure.Figure at 0x7ff4b671c7d0>"
      ]
     },
     "metadata": {},
     "output_type": "display_data"
    },
    {
     "data": {
      "image/png": "[encoded data removed]",
      "text/plain": [
       "<matplotlib.figure.Figure at 0x7ff3139e4cd0>"
      ]
     },
     "metadata": {},
     "output_type": "display_data"
    },
    {
     "data": {
      "image/png": "[encoded data removed]",
      "text/plain": [
       "<matplotlib.figure.Figure at 0x7ff4b67d0150>"
      ]
     },
     "metadata": {},
     "output_type": "display_data"
    },
    {
     "data": {
      "image/png": "[encoded data removed]",
      "text/plain": [
       "<matplotlib.figure.Figure at 0x7ff539d45c90>"
      ]
     },
     "metadata": {},
     "output_type": "display_data"
    },
    {
     "data": {
      "image/png": "[encoded data removed]",
      "text/plain": [
       "<matplotlib.figure.Figure at 0x7ff539d4f690>"
      ]
     },
     "metadata": {},
     "output_type": "display_data"
    },
    {
     "data": {
      "image/png": "[encoded data removed]",
      "text/plain": [
       "<matplotlib.figure.Figure at 0x7ff539d2e610>"
      ]
     },
     "metadata": {},
     "output_type": "display_data"
    },
    {
     "data": {
      "image/png": "[encoded data removed]",
      "text/plain": [
       "<matplotlib.figure.Figure at 0x7ff539c40ad0>"
      ]
     },
     "metadata": {},
     "output_type": "display_data"
    },
    {
     "data": {
      "image/png": "[encoded data removed]",
      "text/plain": [
       "<matplotlib.figure.Figure at 0x7ff539c3d690>"
      ]
     },
     "metadata": {},
     "output_type": "display_data"
    },
    {
     "data": {
      "image/png": "[encoded data removed]",
      "text/plain": [
       "<matplotlib.figure.Figure at 0x7ff539b4ab10>"
      ]
     },
     "metadata": {},
     "output_type": "display_data"
    },
    {
     "data": {
      "image/png": "[encoded data removed]",
      "text/plain": [
       "<matplotlib.figure.Figure at 0x7ff539b7ee10>"
      ]
     },
     "metadata": {},
     "output_type": "display_data"
    },
    {
     "data": {
      "image/png": "[encoded data removed]",
      "text/plain": [
       "<matplotlib.figure.Figure at 0x7ff539aed750>"
      ]
     },
     "metadata": {},
     "output_type": "display_data"
    },
    {
     "data": {
      "image/png": "[encoded data removed]",
      "text/plain": [
       "<matplotlib.figure.Figure at 0x7ff5399d5d50>"
      ]
     },
     "metadata": {},
     "output_type": "display_data"
    },
    {
     "data": {
      "image/png": "[encoded data removed]",
      "text/plain": [
       "<matplotlib.figure.Figure at 0x7ff539a69550>"
      ]
     },
     "metadata": {},
     "output_type": "display_data"
    },
    {
     "data": {
      "image/png": "[encoded data removed]",
      "text/plain": [
       "<matplotlib.figure.Figure at 0x7ff539842fd0>"
      ]
     },
     "metadata": {},
     "output_type": "display_data"
    },
    {
     "data": {
      "image/png": "[encoded data removed]",
      "text/plain": [
       "<matplotlib.figure.Figure at 0x7ff53985aed0>"
      ]
     },
     "metadata": {},
     "output_type": "display_data"
    },
    {
     "data": {
      "image/png": "[encoded data removed]",
      "text/plain": [
       "<matplotlib.figure.Figure at 0x7ff5397e7910>"
      ]
     },
     "metadata": {},
     "output_type": "display_data"
    },
    {
     "data": {
      "image/png": "[encoded data removed]",
      "text/plain": [
       "<matplotlib.figure.Figure at 0x7ff539768510>"
      ]
     },
     "metadata": {},
     "output_type": "display_data"
    },
    {
     "data": {
      "image/png": "[encoded data removed]",
      "text/plain": [
       "<matplotlib.figure.Figure at 0x7ff53978fb90>"
      ]
     },
     "metadata": {},
     "output_type": "display_data"
    },
    {
     "data": {
      "image/png": "[encoded data removed]",
      "text/plain": [
       "<matplotlib.figure.Figure at 0x7ff539606390>"
      ]
     },
     "metadata": {},
     "output_type": "display_data"
    },
    {
     "data": {
      "image/png": "[encoded data removed]",
      "text/plain": [
       "<matplotlib.figure.Figure at 0x7ff538f29810>"
      ]
     },
     "metadata": {},
     "output_type": "display_data"
    },
    {
     "data": {
      "image/png": "[encoded data removed]",
      "text/plain": [
       "<matplotlib.figure.Figure at 0x7ff538eb4390>"
      ]
     },
     "metadata": {},
     "output_type": "display_data"
    },
    {
     "data": {
      "image/png": "[encoded data removed]",
      "text/plain": [
       "<matplotlib.figure.Figure at 0x7ff538e30bd0>"
      ]
     },
     "metadata": {},
     "output_type": "display_data"
    },
    {
     "data": {
      "image/png": "[encoded data removed]",
      "text/plain": [
       "<matplotlib.figure.Figure at 0x7ff538d3b710>"
      ]
     },
     "metadata": {},
     "output_type": "display_data"
    },
    {
     "data": {
      "image/png": "[encoded data removed]",
      "text/plain": [
       "<matplotlib.figure.Figure at 0x7ff538d78210>"
      ]
     },
     "metadata": {},
     "output_type": "display_data"
    },
    {
     "data": {
      "image/png": "[encoded data removed]",
      "text/plain": [
       "<matplotlib.figure.Figure at 0x7ff538d65910>"
      ]
     },
     "metadata": {},
     "output_type": "display_data"
    },
    {
     "data": {
      "image/png": "[encoded data removed]",
      "text/plain": [
       "<matplotlib.figure.Figure at 0x7ff538bdc250>"
      ]
     },
     "metadata": {},
     "output_type": "display_data"
    },
    {
     "data": {
      "image/png": "[encoded data removed]",
      "text/plain": [
       "<matplotlib.figure.Figure at 0x7ff538b6b250>"
      ]
     },
     "metadata": {},
     "output_type": "display_data"
    },
    {
     "data": {
      "image/png": "[encoded data removed]",
      "text/plain": [
       "<matplotlib.figure.Figure at 0x7ff538af12d0>"
      ]
     },
     "metadata": {},
     "output_type": "display_data"
    },
    {
     "data": {
      "image/png": "[encoded data removed]",
      "text/plain": [
       "<matplotlib.figure.Figure at 0x7ff538a4ec90>"
      ]
     },
     "metadata": {},
     "output_type": "display_data"
    },
    {
     "data": {
      "image/png": "[encoded data removed]",
      "text/plain": [
       "<matplotlib.figure.Figure at 0x7ff5389db5d0>"
      ]
     },
     "metadata": {},
     "output_type": "display_data"
    },
    {
     "data": {
      "image/png": "[encoded data removed]",
      "text/plain": [
       "<matplotlib.figure.Figure at 0x7ff53895f710>"
      ]
     },
     "metadata": {},
     "output_type": "display_data"
    },
    {
     "data": {
      "image/png": "[encoded data removed]",
      "text/plain": [
       "<matplotlib.figure.Figure at 0x7ff5389fae90>"
      ]
     },
     "metadata": {},
     "output_type": "display_data"
    },
    {
     "data": {
      "image/png": "[encoded data removed]",
      "text/plain": [
       "<matplotlib.figure.Figure at 0x7ff538870c90>"
      ]
     },
     "metadata": {},
     "output_type": "display_data"
    },
    {
     "data": {
      "image/png": "[encoded data removed]",
      "text/plain": [
       "<matplotlib.figure.Figure at 0x7ff538759f90>"
      ]
     },
     "metadata": {},
     "output_type": "display_data"
    },
    {
     "data": {
      "image/png": "[encoded data removed]",
      "text/plain": [
       "<matplotlib.figure.Figure at 0x7ff53876ef50>"
      ]
     },
     "metadata": {},
     "output_type": "display_data"
    },
    {
     "data": {
      "image/png": "[encoded data removed]",
      "text/plain": [
       "<matplotlib.figure.Figure at 0x7ff5386e0e50>"
      ]
     },
     "metadata": {},
     "output_type": "display_data"
    },
    {
     "data": {
      "image/png": "[encoded data removed]",
      "text/plain": [
       "<matplotlib.figure.Figure at 0x7ff5386752d0>"
      ]
     },
     "metadata": {},
     "output_type": "display_data"
    },
    {
     "data": {
      "image/png": "[encoded data removed]",
      "text/plain": [
       "<matplotlib.figure.Figure at 0x7ff53853e910>"
      ]
     },
     "metadata": {},
     "output_type": "display_data"
    },
    {
     "data": {
      "image/png": "[encoded data removed]",
      "text/plain": [
       "<matplotlib.figure.Figure at 0x7ff538615510>"
      ]
     },
     "metadata": {},
     "output_type": "display_data"
    },
    {
     "data": {
      "image/png": "[encoded data removed]",
      "text/plain": [
       "<matplotlib.figure.Figure at 0x7ff53848ad50>"
      ]
     },
     "metadata": {},
     "output_type": "display_data"
    },
    {
     "data": {
      "image/png": "[encoded data removed]",
      "text/plain": [
       "<matplotlib.figure.Figure at 0x7ff5383fba10>"
      ]
     },
     "metadata": {},
     "output_type": "display_data"
    },
    {
     "data": {
      "image/png": "[encoded data removed]",
      "text/plain": [
       "<matplotlib.figure.Figure at 0x7ff53837fd10>"
      ]
     },
     "metadata": {},
     "output_type": "display_data"
    },
    {
     "data": {
      "image/png": "[encoded data removed]",
      "text/plain": [
       "<matplotlib.figure.Figure at 0x7ff53827bf10>"
      ]
     },
     "metadata": {},
     "output_type": "display_data"
    },
    {
     "data": {
      "image/png": "[encoded data removed]",
      "text/plain": [
       "<matplotlib.figure.Figure at 0x7ff538292d90>"
      ]
     },
     "metadata": {},
     "output_type": "display_data"
    },
    {
     "data": {
      "image/png": "[encoded data removed]",
      "text/plain": [
       "<matplotlib.figure.Figure at 0x7ff5381db710>"
      ]
     },
     "metadata": {},
     "output_type": "display_data"
    },
    {
     "data": {
      "image/png": "[encoded data removed]",
      "text/plain": [
       "<matplotlib.figure.Figure at 0x7ff538318fd0>"
      ]
     },
     "metadata": {},
     "output_type": "display_data"
    },
    {
     "data": {
      "image/png": "[encoded data removed]",
      "text/plain": [
       "<matplotlib.figure.Figure at 0x7ff53814b050>"
      ]
     },
     "metadata": {},
     "output_type": "display_data"
    },
    {
     "data": {
      "image/png": "[encoded data removed]",
      "text/plain": [
       "<matplotlib.figure.Figure at 0x7ff5380ae190>"
      ]
     },
     "metadata": {},
     "output_type": "display_data"
    },
    {
     "data": {
      "image/png": "[encoded data removed]",
      "text/plain": [
       "<matplotlib.figure.Figure at 0x7ff53801ab90>"
      ]
     },
     "metadata": {},
     "output_type": "display_data"
    },
    {
     "data": {
      "image/png": "[encoded data removed]",
      "text/plain": [
       "<matplotlib.figure.Figure at 0x7ff537f95ad0>"
      ]
     },
     "metadata": {},
     "output_type": "display_data"
    },
    {
     "data": {
      "image/png": "[encoded data removed]",
      "text/plain": [
       "<matplotlib.figure.Figure at 0x7ff537f22e90>"
      ]
     },
     "metadata": {},
     "output_type": "display_data"
    },
    {
     "data": {
      "image/png": "[encoded data removed]",
      "text/plain": [
       "<matplotlib.figure.Figure at 0x7ff537ea6ad0>"
      ]
     },
     "metadata": {},
     "output_type": "display_data"
    },
    {
     "data": {
      "image/png": "[encoded data removed]",
      "text/plain": [
       "<matplotlib.figure.Figure at 0x7ff537ed55d0>"
      ]
     },
     "metadata": {},
     "output_type": "display_data"
    },
    {
     "data": {
      "image/png": "[encoded data removed]",
      "text/plain": [
       "<matplotlib.figure.Figure at 0x7ff537d40910>"
      ]
     },
     "metadata": {},
     "output_type": "display_data"
    },
    {
     "data": {
      "image/png": "[encoded data removed]",
      "text/plain": [
       "<matplotlib.figure.Figure at 0x7ff537d1fd90>"
      ]
     },
     "metadata": {},
     "output_type": "display_data"
    },
    {
     "data": {
      "image/png": "[encoded data removed]",
      "text/plain": [
       "<matplotlib.figure.Figure at 0x7ff537cb3c10>"
      ]
     },
     "metadata": {},
     "output_type": "display_data"
    },
    {
     "data": {
      "image/png": "[encoded data removed]",
      "text/plain": [
       "<matplotlib.figure.Figure at 0x7ff537c2f6d0>"
      ]
     },
     "metadata": {},
     "output_type": "display_data"
    },
    {
     "data": {
      "image/png": "[encoded data removed]",
      "text/plain": [
       "<matplotlib.figure.Figure at 0x7ff537b3fe90>"
      ]
     },
     "metadata": {},
     "output_type": "display_data"
    },
    {
     "data": {
      "image/png": "[encoded data removed]",
      "text/plain": [
       "<matplotlib.figure.Figure at 0x7ff537a89710>"
      ]
     },
     "metadata": {},
     "output_type": "display_data"
    },
    {
     "data": {
      "image/png": "[encoded data removed]",
      "text/plain": [
       "<matplotlib.figure.Figure at 0x7ff5379d4d10>"
      ]
     },
     "metadata": {},
     "output_type": "display_data"
    },
    {
     "data": {
      "image/png": "[encoded data removed]",
      "text/plain": [
       "<matplotlib.figure.Figure at 0x7ff5379de710>"
      ]
     },
     "metadata": {},
     "output_type": "display_data"
    },
    {
     "data": {
      "image/png": "[encoded data removed]",
      "text/plain": [
       "<matplotlib.figure.Figure at 0x7ff53793d690>"
      ]
     },
     "metadata": {},
     "output_type": "display_data"
    }
   ],
   "source": [
    "saver = tf.train.Saver()\n",
    "saver.restore(sess, \"/tmp/model.ckpt\")\n",
    "for it in range(30000, 300000):\n",
    "    X_mb = images[(it*10)%100:(it*10)%100+mb_size]\n",
    "#     PC_ori = tf.reduce_mean(tf.concat([PC_ori, PC_ori_temp],0))\n",
    "    \n",
    "#     print((it*10)%100,(it*10)%100+mb_size)\n",
    "    _, loss, recon_E, kl_E, PC_E2, PC_E3, PC_E4, PC_E5 = sess.run([solver, vae_loss, recon_loss, kl_loss, PC_loss2, PC_loss3, PC_loss4, PC_loss5], \n",
    "                                                    feed_dict={X: X_mb.reshape(mb_size, width, hight, num_channels_1),\n",
    "                                                              z0: z[0].reshape(1,z_dim),\n",
    "                                                              z1: z[1].reshape(1,z_dim),\n",
    "                                                              z2: z[2].reshape(1,z_dim),\n",
    "                                                              z3: z[3].reshape(1,z_dim),\n",
    "                                                              z4: z[4].reshape(1,z_dim),\n",
    "#                                                               z5: z[5].reshape(1,z_dim),\n",
    "#                                                               z6: z[6].reshape(1,z_dim),\n",
    "#                                                               z7: z[7].reshape(1,z_dim),\n",
    "#                                                               z8: z[8].reshape(1,z_dim),\n",
    "#                                                               z9: z[9].reshape(1,z_dim),\n",
    "                                                              y: y_target,\n",
    "                                                              y2:y_target2,\n",
    "                                                              y3:y_target3,\n",
    "                                                              y4:y_target4})\n",
    "\n",
    "    if recon_E[0] <= 90:\n",
    "        print('Optimization is done')\n",
    "        print('Iter: {}'.format(it))\n",
    "        print('Loss: {}'.format(loss))\n",
    "        print('recon_E:{}'.format(recon_E))\n",
    "        print('kl_E:{}'.format(kl_E))\n",
    "#         print('PC_E1:{}'.format(PC_E1))\n",
    "        print('PC_E2:{}'.format(PC_E2))\n",
    "        print('PC_E3:{}'.format(PC_E3))\n",
    "        print('PC_E4:{}'.format(PC_E4))\n",
    "        print('PC_E5:{}'.format(PC_E5))\n",
    "        print()\n",
    "        break\n",
    "        \n",
    "    if it % 1000 == 0:\n",
    "        print('Iter: {}'.format(it))\n",
    "        print('Loss: {}'.format(loss))\n",
    "        print('recon_E:{}'.format(recon_E))\n",
    "        print('kl_E:{}'.format(kl_E))\n",
    "#         print('PC_E1:{}'.format(PC_E1))\n",
    "        print('PC_E2:{}'.format(PC_E2))\n",
    "        print('PC_E3:{}'.format(PC_E3))\n",
    "        print('PC_E4:{}'.format(PC_E4))\n",
    "        print('PC_E5:{}'.format(PC_E5))       \n",
    "        print()\n",
    "\n",
    "        samples0 = sess.run(X_samples, feed_dict={zz: z[0].reshape(1,z_dim)})\n",
    "        samples1 = sess.run(X_samples, feed_dict={zz: z[1].reshape(1,z_dim)})\n",
    "        samples2 = sess.run(X_samples, feed_dict={zz: z[2].reshape(1,z_dim)})\n",
    "        samples3 = sess.run(X_samples, feed_dict={zz: z[3].reshape(1,z_dim)})\n",
    "        samples4 = sess.run(X_samples, feed_dict={zz: z[4].reshape(1,z_dim)})\n",
    "#         samples5 = sess.run(X_samples, feed_dict={zz: z[5].reshape(1,z_dim)})\n",
    "#         samples6 = sess.run(X_samples, feed_dict={zz: z[6].reshape(1,z_dim)})\n",
    "#         samples7 = sess.run(X_samples, feed_dict={zz: z[7].reshape(1,z_dim)})\n",
    "#         samples8 = sess.run(X_samples, feed_dict={zz: z[8].reshape(1,z_dim)})\n",
    "#         samples9 = sess.run(X_samples, feed_dict={zz: z[9].reshape(1,z_dim)})\n",
    "        \n",
    "\n",
    "        fig0 = plot(samples0)\n",
    "        k=0\n",
    "        plt.savefig('out/{}-{}.png'.format(str(i).zfill(3),str(k).zfill(3)), bbox_inches='tight')\n",
    "        fig1 = plot(samples1)\n",
    "        k=k+1\n",
    "        plt.savefig('out/{}-{}.png'.format(str(i).zfill(3),str(k).zfill(3)), bbox_inches='tight')\n",
    "        fig2 = plot(samples2)\n",
    "        k=k+1\n",
    "        plt.savefig('out/{}-{}.png'.format(str(i).zfill(3),str(k).zfill(3)), bbox_inches='tight')\n",
    "        fig3 = plot(samples3)\n",
    "        k=k+1\n",
    "        plt.savefig('out/{}-{}.png'.format(str(i).zfill(3),str(k).zfill(3)), bbox_inches='tight')\n",
    "        fig4 = plot(samples4)\n",
    "        k=k+1\n",
    "        plt.savefig('out/{}-{}.png'.format(str(i).zfill(3),str(k).zfill(3)), bbox_inches='tight')\n",
    "#         fig5 = plot(samples5)\n",
    "#         k=k+1\n",
    "#         plt.savefig('out/{}-{}.png'.format(str(i).zfill(3),str(k).zfill(3)), bbox_inches='tight')\n",
    "#         fig6 = plot(samples6)\n",
    "#         k=k+1\n",
    "#         plt.savefig('out/{}-{}.png'.format(str(i).zfill(3),str(k).zfill(3)), bbox_inches='tight')\n",
    "#         fig7 = plot(samples7)\n",
    "#         k=k+1\n",
    "#         plt.savefig('out/{}-{}.png'.format(str(i).zfill(3),str(k).zfill(3)), bbox_inches='tight')\n",
    "#         fig8 = plot(samples8)\n",
    "#         k=k+1\n",
    "#         plt.savefig('out/{}-{}.png'.format(str(i).zfill(3),str(k).zfill(3)), bbox_inches='tight')\n",
    "#         fig9 = plot(samples9)\n",
    "#         k=k+1\n",
    "#         plt.savefig('out/{}-{}.png'.format(str(i).zfill(3),str(k).zfill(3)), bbox_inches='tight')\n",
    "        i += 1\n",
    "#         plt.close(fig)\n",
    "save_path = saver.save(sess, \"/tmp/model.ckpt\")"
   ]
  },
  {
   "cell_type": "code",
   "execution_count": 1,
   "metadata": {
    "collapsed": false
   },
   "outputs": [
    {
     "ename": "ValueError",
     "evalue": "No variables to save",
     "output_type": "error",
     "traceback": [
      "\u001b[0;31m---------------------------------------------------------------------------\u001b[0m",
      "\u001b[0;31mValueError\u001b[0m                                Traceback (most recent call last)",
      "\u001b[0;32m<ipython-input-1-3ccb77ede59c>\u001b[0m in \u001b[0;36m<module>\u001b[0;34m()\u001b[0m\n\u001b[1;32m      1\u001b[0m \u001b[0;32mimport\u001b[0m \u001b[0mtensorflow\u001b[0m \u001b[0;32mas\u001b[0m \u001b[0mtf\u001b[0m\u001b[0;34m\u001b[0m\u001b[0m\n\u001b[0;32m----> 2\u001b[0;31m \u001b[0msaver\u001b[0m \u001b[0;34m=\u001b[0m \u001b[0mtf\u001b[0m\u001b[0;34m.\u001b[0m\u001b[0mtrain\u001b[0m\u001b[0;34m.\u001b[0m\u001b[0mSaver\u001b[0m\u001b[0;34m(\u001b[0m\u001b[0;34m)\u001b[0m\u001b[0;34m\u001b[0m\u001b[0m\n\u001b[0m\u001b[1;32m      3\u001b[0m \u001b[0msaver\u001b[0m\u001b[0;34m.\u001b[0m\u001b[0mrestore\u001b[0m\u001b[0;34m(\u001b[0m\u001b[0msess\u001b[0m\u001b[0;34m,\u001b[0m \u001b[0;34m\"/tmp/model.ckpt\"\u001b[0m\u001b[0;34m)\u001b[0m\u001b[0;34m\u001b[0m\u001b[0m\n\u001b[1;32m      4\u001b[0m \u001b[0;31m# save_path = saver.save(sess, \"/tmp/model.ckpt\")\u001b[0m\u001b[0;34m\u001b[0m\u001b[0;34m\u001b[0m\u001b[0m\n",
      "\u001b[0;32m/home/doi4/Downloads/ENTER/lib/python2.7/site-packages/tensorflow/python/training/saver.pyc\u001b[0m in \u001b[0;36m__init__\u001b[0;34m(self, var_list, reshape, sharded, max_to_keep, keep_checkpoint_every_n_hours, name, restore_sequentially, saver_def, builder, defer_build, allow_empty, write_version, pad_step_number)\u001b[0m\n\u001b[1;32m   1038\u001b[0m     \u001b[0mself\u001b[0m\u001b[0;34m.\u001b[0m\u001b[0m_pad_step_number\u001b[0m \u001b[0;34m=\u001b[0m \u001b[0mpad_step_number\u001b[0m\u001b[0;34m\u001b[0m\u001b[0m\n\u001b[1;32m   1039\u001b[0m     \u001b[0;32mif\u001b[0m \u001b[0;32mnot\u001b[0m \u001b[0mdefer_build\u001b[0m\u001b[0;34m:\u001b[0m\u001b[0;34m\u001b[0m\u001b[0m\n\u001b[0;32m-> 1040\u001b[0;31m       \u001b[0mself\u001b[0m\u001b[0;34m.\u001b[0m\u001b[0mbuild\u001b[0m\u001b[0;34m(\u001b[0m\u001b[0;34m)\u001b[0m\u001b[0;34m\u001b[0m\u001b[0m\n\u001b[0m\u001b[1;32m   1041\u001b[0m     \u001b[0;32mif\u001b[0m \u001b[0mself\u001b[0m\u001b[0;34m.\u001b[0m\u001b[0msaver_def\u001b[0m\u001b[0;34m:\u001b[0m\u001b[0;34m\u001b[0m\u001b[0m\n\u001b[1;32m   1042\u001b[0m       \u001b[0mself\u001b[0m\u001b[0;34m.\u001b[0m\u001b[0m_check_saver_def\u001b[0m\u001b[0;34m(\u001b[0m\u001b[0;34m)\u001b[0m\u001b[0;34m\u001b[0m\u001b[0m\n",
      "\u001b[0;32m/home/doi4/Downloads/ENTER/lib/python2.7/site-packages/tensorflow/python/training/saver.pyc\u001b[0m in \u001b[0;36mbuild\u001b[0;34m(self)\u001b[0m\n\u001b[1;32m   1059\u001b[0m           \u001b[0;32mreturn\u001b[0m\u001b[0;34m\u001b[0m\u001b[0m\n\u001b[1;32m   1060\u001b[0m         \u001b[0;32melse\u001b[0m\u001b[0;34m:\u001b[0m\u001b[0;34m\u001b[0m\u001b[0m\n\u001b[0;32m-> 1061\u001b[0;31m           \u001b[0;32mraise\u001b[0m \u001b[0mValueError\u001b[0m\u001b[0;34m(\u001b[0m\u001b[0;34m\"No variables to save\"\u001b[0m\u001b[0;34m)\u001b[0m\u001b[0;34m\u001b[0m\u001b[0m\n\u001b[0m\u001b[1;32m   1062\u001b[0m       \u001b[0mself\u001b[0m\u001b[0;34m.\u001b[0m\u001b[0m_is_empty\u001b[0m \u001b[0;34m=\u001b[0m \u001b[0mFalse\u001b[0m\u001b[0;34m\u001b[0m\u001b[0m\n\u001b[1;32m   1063\u001b[0m       self.saver_def = self._builder.build(\n",
      "\u001b[0;31mValueError\u001b[0m: No variables to save"
     ]
    }
   ],
   "source": [
    "import tensorflow as tf\n",
    "saver = tf.train.Saver()\n",
    "saver.restore(sess, \"/tmp/model.ckpt\")\n",
    "# save_path = saver.save(sess, \"/tmp/model.ckpt\")"
   ]
  },
  {
   "cell_type": "code",
   "execution_count": 4,
   "metadata": {
    "collapsed": false
   },
   "outputs": [
    {
     "data": {
      "image/png": "[encoded data removed]",
      "text/plain": [
       "<matplotlib.figure.Figure at 0x7f9d4cd1bcd0>"
      ]
     },
     "metadata": {},
     "output_type": "display_data"
    }
   ],
   "source": [
    "z_temp=sess.run(z_mu, feed_dict={X:X_mb.reshape(mb_size, width, hight, num_channels_1)})\n",
    "%matplotlib inline\n",
    "sample_temp=sess.run(X_samples, feed_dict={zz: z_temp[0:1]})\n",
    "# plot_new(sample_temp)\n",
    "fig = plt.figure()\n",
    "\n",
    "ax1 = fig.add_subplot(221)\n",
    "ax1.imshow(sample_temp.reshape(32,32),'gray')\n",
    "\n",
    "ax2 = fig.add_subplot(222)\n",
    "ax2.imshow(X_mb.reshape(32,32),'gray')\n",
    "\n",
    "ax3 = fig.add_subplot(223)\n",
    "ax3.hist(sample_temp.reshape(-1))\n",
    "\n",
    "ax4 = fig.add_subplot(224)\n",
    "ax4.hist(X_mb.reshape(-1))\n",
    "\n",
    "\n",
    "plt.tight_layout()\n",
    "fig = plt.gcf()"
   ]
  },
  {
   "cell_type": "code",
   "execution_count": 28,
   "metadata": {
    "collapsed": false
   },
   "outputs": [
    {
     "data": {
      "image/png": "[encoded data removed]",
      "text/plain": [
       "<matplotlib.figure.Figure at 0x7f97f12df890>"
      ]
     },
     "metadata": {},
     "output_type": "display_data"
    }
   ],
   "source": [
    "samples = sess.run(X_samples, feed_dict={zz: np.random.randn(mb_size, z_dim)})\n",
    "fig = plt.figure()\n",
    "\n",
    "ax1 = fig.add_subplot(121)\n",
    "ax1.imshow(samples.reshape(32,32),'gray')\n",
    "\n",
    "ax2 = fig.add_subplot(122)\n",
    "ax2.hist(samples.reshape(-1))\n",
    "plt.tight_layout()"
   ]
  },
  {
   "cell_type": "code",
   "execution_count": 23,
   "metadata": {
    "collapsed": false
   },
   "outputs": [
    {
     "name": "stdout",
     "output_type": "stream",
     "text": [
      "('VF_pred=', array([ 539.89651713,  518.22612832,  536.05412507,  541.03945318,\n",
      "        547.11483264,  583.3070172 ,  642.03916973,  536.4571538 ,\n",
      "        540.35431214,  579.66666186]))\n"
     ]
    },
    {
     "data": {
      "image/png": "[encoded data removed]",
      "text/plain": [
       "<matplotlib.figure.Figure at 0x7f54d45c1490>"
      ]
     },
     "metadata": {},
     "output_type": "display_data"
    }
   ],
   "source": [
    "VF_pred = []\n",
    "for i in range(10):\n",
    "    samples=sess.run(X_samples, feed_dict={zz: z[i].reshape(1,z_dim)})\n",
    "    VF_pred = np.append(VF_pred, correlation_fun_test(x=samples.reshape(32,32),input_dim=32,Rad=16))\n",
    "    plt.hist(samples.reshape(-1))\n",
    "print('VF_pred=',VF_pred)"
   ]
  },
  {
   "cell_type": "code",
   "execution_count": 98,
   "metadata": {
    "collapsed": false
   },
   "outputs": [
    {
     "name": "stdout",
     "output_type": "stream",
     "text": [
      "('VF=', array([ 1024.,  1024.,  1024.,  1024.,  1024.,  1024.,  1024.,  1024.,\n",
      "        1024.,  1024.]))\n"
     ]
    }
   ],
   "source": [
    "VF = []\n",
    "for i in range(0,100,10):\n",
    "    VF = np.append(VF, correlation_fun_test(x=images[i].reshape(32,32),input_dim=32,Rad=0))\n",
    "print('VF=',VF)"
   ]
  },
  {
   "cell_type": "code",
   "execution_count": 62,
   "metadata": {
    "collapsed": false
   },
   "outputs": [
    {
     "name": "stdout",
     "output_type": "stream",
     "text": [
      "[ 540.  519.  537.  542.  548.  584.  643.  537.  541.  580.]\n",
      "[ 648.  538.  566.  528.  588.  570.  564.  522.  524.  520.]\n"
     ]
    }
   ],
   "source": [
    "print np.ceil(VF_pred)\n",
    "print VF\n",
    "PC_loss2=tf.reduce_mean(tf.square(y-PC_ran))"
   ]
  },
  {
   "cell_type": "code",
   "execution_count": 67,
   "metadata": {
    "collapsed": false
   },
   "outputs": [
    {
     "name": "stdout",
     "output_type": "stream",
     "text": [
      "556.8\n",
      "556.415537106\n"
     ]
    }
   ],
   "source": [
    "print np.mean(VF)\n",
    "print np.mean(VF_pred)"
   ]
  },
  {
   "cell_type": "code",
   "execution_count": 29,
   "metadata": {
    "collapsed": false
   },
   "outputs": [],
   "source": [
    "S2 = np.zeros([5,17])\n",
    "for i in range(5):\n",
    "    samples=sess.run(X_samples, feed_dict={zz: z[i].reshape(1,z_dim)})\n",
    "    for j in range(17):\n",
    "        S2[i,j] = correlation_fun_test(x=samples.reshape(32,32),input_dim=32,Rad=j)\n",
    "#     plt.hist(samples.reshape(-1))\n",
    "\n",
    "S2_ori = np.zeros([10,17])\n",
    "for i in range(10):\n",
    "    for j in range(17):\n",
    "        S2_ori[i,j] = correlation_fun_test(x=images[i*10].reshape(32,32),input_dim=32,Rad=j)"
   ]
  },
  {
   "cell_type": "code",
   "execution_count": 42,
   "metadata": {
    "collapsed": true
   },
   "outputs": [],
   "source": [
    "S2 = np.zeros([10,17])\n",
    "for i in range(10):\n",
    "    samples=sess.run(X_samples, feed_dict={zz:  np.random.randn(mb_size, z_dim)})\n",
    "    for j in range(17):\n",
    "        S2[i,j] = correlation_fun_test(x=samples.reshape(32,32),input_dim=32,Rad=j)\n",
    "#     plt.hist(samples.reshape(-1))\n",
    "\n",
    "S2_ori = np.zeros([10,17])\n",
    "for i in range(10):\n",
    "    for j in range(17):\n",
    "        S2_ori[i,j] = correlation_fun_test(x=images[i*10].reshape(32,32),input_dim=32,Rad=j)"
   ]
  },
  {
   "cell_type": "code",
   "execution_count": 6,
   "metadata": {
    "collapsed": false
   },
   "outputs": [
    {
     "name": "stdout",
     "output_type": "stream",
     "text": [
      "('VF=', array([ 648.,  538.,  566.,  528.,  588.,  570.,  564.,  522.,  524.,  520.]))\n",
      "[ 648.  538.  566.  528.  588.  570.  564.  522.  524.  520.]\n"
     ]
    }
   ],
   "source": [
    "VF = []\n",
    "for i in range(0,100,10):\n",
    "#     print i\n",
    "    VF = np.append(VF, correlation_fun_test(x=images[i].reshape(32,32),input_dim=32,Rad=16))\n",
    "print('VF=',VF)\n",
    "print S2_ori[:,-1]"
   ]
  },
  {
   "cell_type": "code",
   "execution_count": 32,
   "metadata": {
    "collapsed": true
   },
   "outputs": [
    {
     "data": {
      "image/png": "[encoded data removed]",
      "text/plain": [
       "<matplotlib.figure.Figure at 0x7f54d0000590>"
      ]
     },
     "metadata": {},
     "output_type": "display_data"
    }
   ],
   "source": [
    "from matplotlib import pyplot as pl\n",
    "import numpy as np\n",
    "\n",
    "x = np.linspace(0, 15, 16)\n",
    "y = np.sin(x/6*np.pi)\n",
    "error = np.random.normal(0.1, 0.02, size=y.shape)\n",
    "y += np.random.normal(0, 0.1, size=y.shape)\n",
    "\n",
    "pl.plot(x, y, 'k-')\n",
    "pl.fill_between(x, y-error, y+error)\n",
    "pl.show()"
   ]
  },
  {
   "cell_type": "code",
   "execution_count": 43,
   "metadata": {
    "collapsed": false
   },
   "outputs": [
    {
     "data": {
      "text/plain": [
       "<matplotlib.axes._subplots.AxesSubplot at 0x7f97e62e7810>"
      ]
     },
     "execution_count": 43,
     "metadata": {},
     "output_type": "execute_result"
    },
    {
     "data": {
      "image/png": "[encoded data removed]",
      "text/plain": [
       "<matplotlib.figure.Figure at 0x7f97e70e9c10>"
      ]
     },
     "metadata": {},
     "output_type": "display_data"
    }
   ],
   "source": [
    "import seaborn as sns\n",
    "x = np.linspace(0, 16, 17)\n",
    "sns.tsplot(data=S2)\n",
    "sns.tsplot(data=S2_ori)"
   ]
  },
  {
   "cell_type": "code",
   "execution_count": 22,
   "metadata": {
    "collapsed": false
   },
   "outputs": [],
   "source": [
    "weight1 = sess.run(deconv1_weight)\n",
    "weight2 = sess.run(deconv2_weight)\n",
    "weight3 = sess.run(deconv3_weight)"
   ]
  },
  {
   "cell_type": "code",
   "execution_count": 25,
   "metadata": {
    "collapsed": false
   },
   "outputs": [],
   "source": [
    "import scipy.io as sio\n",
    "sio.savemat('weight1.mat',mdict={'weight1':weight1})\n",
    "sio.savemat('weight2.mat',mdict={'weight2':weight2})\n",
    "sio.savemat('weight3.mat',mdict={'weight3':weight3})"
   ]
  },
  {
   "cell_type": "code",
   "execution_count": 10,
   "metadata": {
    "collapsed": false
   },
   "outputs": [
    {
     "data": {
      "image/png": "[encoded data removed]",
      "text/plain": [
       "<matplotlib.figure.Figure at 0x7fa5d58abd50>"
      ]
     },
     "execution_count": 10,
     "metadata": {},
     "output_type": "execute_result"
    },
    {
     "data": {
      "image/png": "[encoded data removed]",
      "text/plain": [
       "<matplotlib.figure.Figure at 0x7fa5d58abd50>"
      ]
     },
     "metadata": {},
     "output_type": "display_data"
    }
   ],
   "source": [
    "def plot(samples):\n",
    "    fig = plt.figure(figsize=(20, 20))\n",
    "    gs = gridspec.GridSpec(4, 4)\n",
    "    gs.update(wspace=0.05, hspace=0.05)\n",
    "\n",
    "    for i, sample in enumerate(samples):\n",
    "        ax = plt.subplot(gs[i])\n",
    "        plt.axis('off')\n",
    "        ax.set_xticklabels([])\n",
    "        ax.set_yticklabels([])\n",
    "        ax.set_aspect('equal')\n",
    "        plt.imshow(sample.reshape(32, 32), cmap='Greys_r')\n",
    "\n",
    "    return fig\n",
    "\n",
    "\n",
    "plot(sample_temp)"
   ]
  }
 ],
 "metadata": {
  "kernelspec": {
   "display_name": "Python 2",
   "language": "python",
   "name": "python2"
  },
  "language_info": {
   "codemirror_mode": {
    "name": "ipython",
    "version": 2
   },
   "file_extension": ".py",
   "mimetype": "text/x-python",
   "name": "python",
   "nbconvert_exporter": "python",
   "pygments_lexer": "ipython2",
   "version": "2.7.13"
  }
 },
 "nbformat": 4,
 "nbformat_minor": 0
}
